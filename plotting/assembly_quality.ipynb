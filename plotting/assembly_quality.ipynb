{
 "cells": [
  {
   "cell_type": "code",
   "execution_count": 1,
   "metadata": {},
   "outputs": [],
   "source": [
    "import os\n",
    "import json\n",
    "import pandas as pd\n",
    "import numpy as np\n",
    "import json\n",
    "\n",
    "from matplotlib import pyplot as plt\n",
    "import seaborn as sb\n",
    "\n",
    "from mpl_toolkits.axes_grid1.inset_locator import zoomed_inset_axes, mark_inset\n",
    "from mpl_toolkits.axes_grid1.anchored_artists import AnchoredSizeBar"
   ]
  },
  {
   "cell_type": "code",
   "execution_count": 2,
   "metadata": {},
   "outputs": [],
   "source": [
    "sb.set_style(\"darkgrid\")\n",
    "sb.set_context(\"paper\",  font_scale = 1,\n",
    "               rc={\n",
    "                   \"grid.linewidth\": 3.75,\n",
    "                   'axes.labelsize': 28,\n",
    "                   \"axes.titlesize\": 32,\n",
    "                   \"legend.fontsize\": 28.0,\n",
    "                   'lines.linewidth': 5,\n",
    "                   'xtick.labelsize': 24.0,\n",
    "                   'ytick.labelsize': 24.0,\n",
    "               })\n",
    "current_palette = list(sb.color_palette())\n",
    "colors = {\n",
    "    'RL': current_palette[0],\n",
    "    'RR': current_palette[5],\n",
    "    'SOP':current_palette[4],\n",
    "    'RAND':current_palette[7],\n",
    "    'optimal':current_palette[1],\n",
    "    '0':current_palette[-2],\n",
    "    '1':current_palette[-1]\n",
    "}"
   ]
  },
  {
   "cell_type": "code",
   "execution_count": 3,
   "metadata": {
    "code_folding": [
     8
    ],
    "scrolled": false
   },
   "outputs": [],
   "source": [
    "# Load in split map from saved json files.\n",
    "# With new kfold-cv splits this is not necessary as we have one file that directly contains the map.\n",
    "\n",
    "\n",
    "data_dir = \"/home/biedenka/git/rl-plan/experiments/assembly_v3\"\n",
    "\n",
    "split_map = {}\n",
    "\n",
    "with open(os.path.join(data_dir, 'assembly-crossvalidation', 'splits.json')) as fh:\n",
    "    split_map = json.load(fh)\n",
    "string_keys = list(split_map.keys())\n",
    "for key in string_keys:\n",
    "    split_map[int(key)] = {}\n",
    "    for t in split_map[key]:\n",
    "        split_map[int(key)][t] = list(map(lambda x: os.path.basename(x), split_map[key][t]))"
   ]
  },
  {
   "cell_type": "code",
   "execution_count": 4,
   "metadata": {
    "code_folding": [],
    "scrolled": true
   },
   "outputs": [
    {
     "name": "stdout",
     "output_type": "stream",
     "text": [
      "TEST  True\n",
      "SPLIT 1\n",
      " Mean   |  Stdev  | Timeouts\n",
      "-347.42 | +365.34 | 1.0\n",
      "##########################################################################################\n",
      "SPLIT 2\n",
      " Mean   |  Stdev  | Timeouts\n",
      "-790.70 |   +3.82 | 0.0\n",
      "##########################################################################################\n",
      "SPLIT 3\n",
      " Mean   |  Stdev  | Timeouts\n",
      "-126.50 |   +9.23 | 0.0\n",
      "##########################################################################################\n",
      "SPLIT 4\n",
      " Mean   |  Stdev  | Timeouts\n",
      "-291.65 |  +81.57 | 0.0\n",
      "##########################################################################################\n",
      "SPLIT 5\n",
      " Mean   |  Stdev  | Timeouts\n",
      "-273.23 |  +25.77 | 0.0\n",
      "##########################################################################################\n",
      "Done\n",
      "TEST  False\n",
      "SPLIT 1\n",
      " Mean   |  Stdev  | Timeouts\n",
      "-307.85 |  +30.00 | 0.0\n",
      "##########################################################################################\n",
      "SPLIT 2\n",
      " Mean   |  Stdev  | Timeouts\n",
      "-169.52 |   +7.70 | 0.0\n",
      "##########################################################################################\n",
      "SPLIT 3\n",
      " Mean   |  Stdev  | Timeouts\n",
      "-341.68 |   +8.56 | 0.0\n",
      "##########################################################################################\n",
      "SPLIT 4\n",
      " Mean   |  Stdev  | Timeouts\n",
      "-330.33 |   +3.46 | 0.0\n",
      "##########################################################################################\n",
      "SPLIT 5\n",
      " Mean   |  Stdev  | Timeouts\n",
      "-306.60 |   +2.07 | 0.0\n",
      "##########################################################################################\n",
      "Done\n"
     ]
    }
   ],
   "source": [
    "# Load the validated RL data\n",
    "exp_dir = '/home/biedenka/git/rl-plan'\n",
    "rl_data = {}\n",
    "rl_time_data = {}\n",
    "\n",
    "UNITS = 200\n",
    "cutoff = 7500  # used cutoff for all experiments\n",
    "for TEST in [True, False]:  # For all trining and test splits\n",
    "    print('TEST ', TEST)\n",
    "    rl_cost = {}\n",
    "    rl_traj = {}\n",
    "    rl_tims = {}\n",
    "    rl_times = {}\n",
    "    for split in range(1, 6):\n",
    "        print('SPLIT %d' % split)\n",
    "        timeouts = 0\n",
    "        means = []\n",
    "        trajs = []\n",
    "        timouts = []\n",
    "        times = []\n",
    "        for seed in range(1, 11):  # for all 10 seeds\n",
    "            try:\n",
    "                file=os.path.join(\n",
    "                    data_dir,\n",
    "                    'old_feats_wide_long_%d_full_train_set_2-%d-%d-split%d' % (\n",
    "                        split, UNITS, seed, split),\n",
    "                    'best',\n",
    "                    '%s-2-%d-split%d-seed%d.json' % (\n",
    "                        'test' if TEST else 'train', UNITS, split, seed))\n",
    "#                 print(file)\n",
    "                with open(file, 'r') as fh:\n",
    "                    data = json.load(fh)\n",
    "        #         print(data)\n",
    "                for traj in data['trajectories']:  # load the trajectories and see if they match the cutoff\n",
    "        #             print(len(traj))\n",
    "                    if len(traj) >= cutoff:\n",
    "                        timeouts += 1\n",
    "                means.append(data['mean'])         # load the average plan cost over all 22/24 training or 8/6 test instances\n",
    "                trajs.append(data['trajectories']) # load all policies for runs on all 22/24 / 8/6 instances\n",
    "                timouts.append(timeouts)\n",
    "                times.append(data['times_per_episode'])\n",
    "            except FileNotFoundError:\n",
    "                print('Not done with split %d seed %d' % (split, seed))\n",
    "\n",
    "        # Compute the mean and stdev over 10 repetitions\n",
    "        rl_cost[split] = (np.mean(means), np.std(means))\n",
    "        rl_traj[split] = trajs\n",
    "        rl_tims[split] = np.ceil(np.mean(timouts))\n",
    "        rl_times[split] = times\n",
    "\n",
    "        print('{:^7s} | {:^7s} | {:s}'.format('Mean', 'Stdev', 'Timeouts'))\n",
    "        print('{:>+7.2f} | {:>+7.2f} | {:>1.1f}'.format(*rl_cost[split],\n",
    "                                                        rl_tims[split]))\n",
    "        print('#'*90)\n",
    "\n",
    "    print('Done')\n",
    "\n",
    "    if TEST:\n",
    "        rl_data['test'] = (rl_cost, rl_traj, rl_tims)\n",
    "        rl_time_data['test'] = rl_times\n",
    "    else:\n",
    "        rl_data['train'] = (rl_cost, rl_traj, rl_tims)\n",
    "        rl_time_data['train'] = rl_times"
   ]
  },
  {
   "cell_type": "code",
   "execution_count": 5,
   "metadata": {
    "code_folding": [],
    "scrolled": false
   },
   "outputs": [],
   "source": [
    "# Remap the results according to training and test splits. I.e. average plan cost\n",
    "# given the policy on instance inst/idx in split split\n",
    "train_results = {}\n",
    "test_results = {}\n",
    "train_time_results = {}\n",
    "test_time_results = {}\n",
    "for split in range(1, 6):\n",
    "    train_insts = split_map[split]['train']\n",
    "    test_insts = split_map[split]['test']\n",
    "    for idx, inst in enumerate(train_insts):\n",
    "        if inst not in train_results:\n",
    "            train_results[inst] = []\n",
    "            train_time_results[inst] = []\n",
    "        plan_lens = []\n",
    "        times = []\n",
    "        for seed in range(10): # get plan cost from the saved trajectory\n",
    "            plan_lens.append(len(rl_data['train'][1][split][seed][idx]))\n",
    "            times.append(rl_time_data['train'][split][seed][idx])\n",
    "        train_results[inst].append(np.mean(plan_lens))\n",
    "        train_time_results[inst].append(np.mean(times))\n",
    "    for idx, inst in enumerate(test_insts):\n",
    "        if inst not in test_results:\n",
    "            test_results[inst] = []\n",
    "            test_time_results[inst] = []\n",
    "        plan_lens = []\n",
    "        for seed in range(10):\n",
    "            plan_lens.append(len(rl_data['test'][1][split][seed][idx]))\n",
    "            times.append(rl_time_data['test'][split][seed][idx])\n",
    "        test_results[inst].append(np.mean(plan_lens))\n",
    "        test_time_results[inst].append(np.mean(times))"
   ]
  },
  {
   "cell_type": "code",
   "execution_count": 6,
   "metadata": {
    "scrolled": true
   },
   "outputs": [
    {
     "name": "stdout",
     "output_type": "stream",
     "text": [
      "{\n",
      "    \"prob01.pddl\": 33.4,\n",
      "    \"prob02.pddl\": 39.4,\n",
      "    \"prob03.pddl\": 77.0,\n",
      "    \"prob04.pddl\": 42.5,\n",
      "    \"prob05.pddl\": 57.3,\n",
      "    \"prob06.pddl\": 37.5,\n",
      "    \"prob07.pddl\": 1099.4,\n",
      "    \"prob08.pddl\": 71.9,\n",
      "    \"prob09.pddl\": 153.1,\n",
      "    \"prob10.pddl\": 68.4,\n",
      "    \"prob11.pddl\": 124.8,\n",
      "    \"prob12.pddl\": 64.6,\n",
      "    \"prob13.pddl\": 128.2,\n",
      "    \"prob14.pddl\": 181.7,\n",
      "    \"prob15.pddl\": 143.7,\n",
      "    \"prob16.pddl\": 107.8,\n",
      "    \"prob17.pddl\": 99.9,\n",
      "    \"prob18.pddl\": 4128.3,\n",
      "    \"prob19.pddl\": 281.8,\n",
      "    \"prob20.pddl\": 171.1,\n",
      "    \"prob21.pddl\": 95.8,\n",
      "    \"prob22.pddl\": 319.1,\n",
      "    \"prob23.pddl\": 171.4,\n",
      "    \"prob24.pddl\": 164.5,\n",
      "    \"prob25.pddl\": 282.5,\n",
      "    \"prob26.pddl\": 1008.4,\n",
      "    \"prob27.pddl\": 1102.6,\n",
      "    \"prob28.pddl\": 242.5,\n",
      "    \"prob29.pddl\": 315.9,\n",
      "    \"prob30.pddl\": 162.5\n",
      "}\n",
      "{\n",
      "    \"prob01.pddl\": 32.075,\n",
      "    \"prob02.pddl\": 41.025000000000006,\n",
      "    \"prob03.pddl\": 77.5,\n",
      "    \"prob04.pddl\": 40.400000000000006,\n",
      "    \"prob05.pddl\": 53.5,\n",
      "    \"prob06.pddl\": 38.0,\n",
      "    \"prob07.pddl\": 122.25,\n",
      "    \"prob08.pddl\": 59.825,\n",
      "    \"prob09.pddl\": 153.175,\n",
      "    \"prob10.pddl\": 65.94999999999999,\n",
      "    \"prob11.pddl\": 127.57500000000002,\n",
      "    \"prob12.pddl\": 66.875,\n",
      "    \"prob13.pddl\": 135.97500000000002,\n",
      "    \"prob14.pddl\": 156.57500000000002,\n",
      "    \"prob15.pddl\": 145.225,\n",
      "    \"prob16.pddl\": 113.875,\n",
      "    \"prob17.pddl\": 102.675,\n",
      "    \"prob18.pddl\": 4028.65,\n",
      "    \"prob19.pddl\": 268.675,\n",
      "    \"prob20.pddl\": 168.39999999999998,\n",
      "    \"prob21.pddl\": 85.67500000000001,\n",
      "    \"prob22.pddl\": 321.725,\n",
      "    \"prob23.pddl\": 167.95,\n",
      "    \"prob24.pddl\": 162.1,\n",
      "    \"prob25.pddl\": 256.025,\n",
      "    \"prob26.pddl\": 733.275,\n",
      "    \"prob27.pddl\": 279.875,\n",
      "    \"prob28.pddl\": 241.375,\n",
      "    \"prob29.pddl\": 321.525,\n",
      "    \"prob30.pddl\": 168.15\n",
      "}\n"
     ]
    }
   ],
   "source": [
    "# Getting the average over the training/test runs\n",
    "# print(json.dumps(test_results, indent=4, sort_keys=True))\n",
    "average_rl_test_results = {}\n",
    "average_rl_times_test = {}\n",
    "for inst in sorted(test_results.keys()):\n",
    "    average_rl_test_results[inst] = np.mean(test_results[inst])\n",
    "    average_rl_times_test[inst] = np.mean(test_time_results[inst])\n",
    "print(json.dumps(average_rl_test_results, indent=4, sort_keys=True))\n",
    "# print(json.dumps(train_results, indent=4, sort_keys=True))\n",
    "average_rl_train_results = {}\n",
    "average_rl_times_train = {}\n",
    "for inst in sorted(train_results.keys()):\n",
    "    average_rl_train_results[inst] = np.mean(train_results[inst])\n",
    "    average_rl_times_train[inst] = np.mean(train_time_results[inst])\n",
    "print(json.dumps(average_rl_train_results, indent=4, sort_keys=True))"
   ]
  },
  {
   "cell_type": "code",
   "execution_count": 7,
   "metadata": {
    "scrolled": true
   },
   "outputs": [
    {
     "data": {
      "text/plain": [
       "{'prob01.pddl': 32.075,\n",
       " 'prob02.pddl': 41.025000000000006,\n",
       " 'prob03.pddl': 77.5,\n",
       " 'prob04.pddl': 40.400000000000006,\n",
       " 'prob05.pddl': 53.5,\n",
       " 'prob06.pddl': 38.0,\n",
       " 'prob07.pddl': 122.25,\n",
       " 'prob08.pddl': 59.825,\n",
       " 'prob09.pddl': 153.175,\n",
       " 'prob10.pddl': 65.94999999999999,\n",
       " 'prob11.pddl': 127.57500000000002,\n",
       " 'prob12.pddl': 66.875,\n",
       " 'prob13.pddl': 135.97500000000002,\n",
       " 'prob14.pddl': 156.57500000000002,\n",
       " 'prob15.pddl': 145.225,\n",
       " 'prob16.pddl': 113.875,\n",
       " 'prob17.pddl': 102.675,\n",
       " 'prob18.pddl': 4028.65,\n",
       " 'prob19.pddl': 268.675,\n",
       " 'prob20.pddl': 168.39999999999998,\n",
       " 'prob21.pddl': 85.67500000000001,\n",
       " 'prob22.pddl': 321.725,\n",
       " 'prob23.pddl': 167.95,\n",
       " 'prob24.pddl': 162.1,\n",
       " 'prob25.pddl': 256.025,\n",
       " 'prob26.pddl': 733.275,\n",
       " 'prob27.pddl': 279.875,\n",
       " 'prob28.pddl': 241.375,\n",
       " 'prob29.pddl': 321.525,\n",
       " 'prob30.pddl': 168.15}"
      ]
     },
     "execution_count": 7,
     "metadata": {},
     "output_type": "execute_result"
    }
   ],
   "source": [
    "average_rl_train_results"
   ]
  },
  {
   "cell_type": "code",
   "execution_count": 8,
   "metadata": {},
   "outputs": [
    {
     "data": {
      "text/plain": [
       "291.1958333333333"
      ]
     },
     "execution_count": 8,
     "metadata": {},
     "output_type": "execute_result"
    }
   ],
   "source": [
    "np.mean(list(average_rl_train_results.values()))"
   ]
  },
  {
   "cell_type": "code",
   "execution_count": 9,
   "metadata": {
    "scrolled": false
   },
   "outputs": [
    {
     "data": {
      "text/plain": [
       "{'prob01.pddl': 33.4,\n",
       " 'prob02.pddl': 39.4,\n",
       " 'prob03.pddl': 77.0,\n",
       " 'prob04.pddl': 42.5,\n",
       " 'prob05.pddl': 57.3,\n",
       " 'prob06.pddl': 37.5,\n",
       " 'prob07.pddl': 1099.4,\n",
       " 'prob08.pddl': 71.9,\n",
       " 'prob09.pddl': 153.1,\n",
       " 'prob10.pddl': 68.4,\n",
       " 'prob11.pddl': 124.8,\n",
       " 'prob12.pddl': 64.6,\n",
       " 'prob13.pddl': 128.2,\n",
       " 'prob14.pddl': 181.7,\n",
       " 'prob15.pddl': 143.7,\n",
       " 'prob16.pddl': 107.8,\n",
       " 'prob17.pddl': 99.9,\n",
       " 'prob18.pddl': 4128.3,\n",
       " 'prob19.pddl': 281.8,\n",
       " 'prob20.pddl': 171.1,\n",
       " 'prob21.pddl': 95.8,\n",
       " 'prob22.pddl': 319.1,\n",
       " 'prob23.pddl': 171.4,\n",
       " 'prob24.pddl': 164.5,\n",
       " 'prob25.pddl': 282.5,\n",
       " 'prob26.pddl': 1008.4,\n",
       " 'prob27.pddl': 1102.6,\n",
       " 'prob28.pddl': 242.5,\n",
       " 'prob29.pddl': 315.9,\n",
       " 'prob30.pddl': 162.5}"
      ]
     },
     "execution_count": 9,
     "metadata": {},
     "output_type": "execute_result"
    }
   ],
   "source": [
    "average_rl_test_results"
   ]
  },
  {
   "cell_type": "code",
   "execution_count": 10,
   "metadata": {},
   "outputs": [
    {
     "data": {
      "text/plain": [
       "365.9"
      ]
     },
     "execution_count": 10,
     "metadata": {},
     "output_type": "execute_result"
    }
   ],
   "source": [
    "np.mean(list(average_rl_test_results.values()))"
   ]
  },
  {
   "cell_type": "code",
   "execution_count": 11,
   "metadata": {
    "scrolled": false
   },
   "outputs": [
    {
     "data": {
      "text/plain": [
       "{'prob01.pddl': 0.052529472112655635,\n",
       " 'prob02.pddl': 0.05767650008201599,\n",
       " 'prob03.pddl': 0.21007710099220275,\n",
       " 'prob04.pddl': 0.072380930185318,\n",
       " 'prob05.pddl': 0.10214258432388307,\n",
       " 'prob06.pddl': 0.05916326642036439,\n",
       " 'prob07.pddl': 0.33665093779563904,\n",
       " 'prob08.pddl': 0.09706292748451233,\n",
       " 'prob09.pddl': 0.32340245842933657,\n",
       " 'prob10.pddl': 0.12955390214920043,\n",
       " 'prob11.pddl': 0.33390606641769405,\n",
       " 'prob12.pddl': 0.22183848619461058,\n",
       " 'prob13.pddl': 0.28275113105773925,\n",
       " 'prob14.pddl': 0.4345983445644379,\n",
       " 'prob15.pddl': 0.5222525119781494,\n",
       " 'prob16.pddl': 0.5412618041038513,\n",
       " 'prob17.pddl': 0.39518705010414124,\n",
       " 'prob18.pddl': 79.57661635279655,\n",
       " 'prob19.pddl': 0.9848650515079498,\n",
       " 'prob20.pddl': 1.1512069165706635,\n",
       " 'prob21.pddl': 0.5680759429931641,\n",
       " 'prob22.pddl': 1.943015468120575,\n",
       " 'prob23.pddl': 0.7466258108615874,\n",
       " 'prob24.pddl': 1.23784259557724,\n",
       " 'prob25.pddl': 2.3042491614818577,\n",
       " 'prob26.pddl': 5.096286976337432,\n",
       " 'prob27.pddl': 2.4834688305854797,\n",
       " 'prob28.pddl': 1.7976736068725585,\n",
       " 'prob29.pddl': 3.1821118593215942,\n",
       " 'prob30.pddl': 0.9089806199073791}"
      ]
     },
     "execution_count": 11,
     "metadata": {},
     "output_type": "execute_result"
    }
   ],
   "source": [
    "average_rl_times_train"
   ]
  },
  {
   "cell_type": "code",
   "execution_count": 12,
   "metadata": {
    "scrolled": false
   },
   "outputs": [
    {
     "data": {
      "text/plain": [
       "{'prob01.pddl': 0.46372673511505125,\n",
       " 'prob02.pddl': 1.6412803769111632,\n",
       " 'prob03.pddl': 0.5771680235862732,\n",
       " 'prob04.pddl': 0.3352047840754191,\n",
       " 'prob05.pddl': 0.5061371564865113,\n",
       " 'prob06.pddl': 0.5008665919303894,\n",
       " 'prob07.pddl': 1.9289724747339885,\n",
       " 'prob08.pddl': 1.4761875033378602,\n",
       " 'prob09.pddl': 1.2036338567733764,\n",
       " 'prob10.pddl': 1.2078340196609496,\n",
       " 'prob11.pddl': 0.4947273333867391,\n",
       " 'prob12.pddl': 0.40057589213053385,\n",
       " 'prob13.pddl': 0.31773942708969116,\n",
       " 'prob14.pddl': 0.5000416815280915,\n",
       " 'prob15.pddl': 1.0332920551300049,\n",
       " 'prob16.pddl': 0.35999292373657227,\n",
       " 'prob17.pddl': 0.4000278949737549,\n",
       " 'prob18.pddl': 16.56636842250824,\n",
       " 'prob19.pddl': 1.1792546391487122,\n",
       " 'prob20.pddl': 1.171430802345276,\n",
       " 'prob21.pddl': 0.9641664266586304,\n",
       " 'prob22.pddl': 0.6187088330586751,\n",
       " 'prob23.pddl': 13.928089090188344,\n",
       " 'prob24.pddl': 1.0116725126902262,\n",
       " 'prob25.pddl': 0.9075984573364257,\n",
       " 'prob26.pddl': 1.5579042979649136,\n",
       " 'prob27.pddl': 3.5786426107088727,\n",
       " 'prob28.pddl': 12.193531993457249,\n",
       " 'prob29.pddl': 3.5198557444981167,\n",
       " 'prob30.pddl': 0.9977333409445627}"
      ]
     },
     "execution_count": 12,
     "metadata": {},
     "output_type": "execute_result"
    }
   ],
   "source": [
    "average_rl_times_test"
   ]
  },
  {
   "cell_type": "code",
   "execution_count": 13,
   "metadata": {},
   "outputs": [
    {
     "name": "stdout",
     "output_type": "stream",
     "text": [
      "assembly_v3 - best action: 0\n",
      "\t test\n",
      "\t prob03.pddl 87.0\n",
      "\t prob11.pddl 151.0\n",
      "\t prob14.pddl 162.0\n",
      "\t prob25.pddl 247.0\n",
      "\t prob27.pddl 302.0\n",
      "\t prob29.pddl 322.0\n",
      "\t\tMean:  211.833\n",
      "--------------------------------------------------------------------------------\n",
      "\t train\n",
      "\t prob01.pddl 32.0\n",
      "\t prob02.pddl 40.0\n",
      "\t prob04.pddl 39.0\n",
      "\t prob05.pddl 61.0\n",
      "\t prob06.pddl 36.0\n",
      "\t prob07.pddl 97.0\n",
      "\t prob08.pddl 70.0\n",
      "\t prob09.pddl 164.0\n",
      "\t prob10.pddl 71.0\n",
      "\t prob12.pddl 64.0\n",
      "\t prob13.pddl 131.0\n",
      "\t prob15.pddl 145.0\n",
      "\t prob16.pddl 110.0\n",
      "\t prob17.pddl 100.0\n",
      "\t prob18.pddl 4124.0\n",
      "\t prob19.pddl 274.0\n",
      "\t prob20.pddl 158.0\n",
      "\t prob21.pddl 83.0\n",
      "\t prob22.pddl 320.0\n",
      "\t prob23.pddl 161.0\n",
      "\t prob24.pddl 158.0\n",
      "\t prob26.pddl 1148.0\n",
      "\t prob28.pddl 234.0\n",
      "\t prob30.pddl 154.0\n",
      "\t\tMean:  332.25\n",
      "--------------------------------------------------------------------------------\n",
      "\t\tOverall Mean:  308.167\n",
      "################################################################################\n",
      "\n",
      "\n",
      "\n",
      "\n",
      "Static Oracle Performance\n",
      "assembly_v3\n",
      "\t test\n",
      "prob03.pddl 56.0\n",
      "prob11.pddl 151.0\n",
      "prob14.pddl 162.0\n",
      "prob25.pddl 247.0\n",
      "prob27.pddl 302.0\n",
      "prob29.pddl 322.0\n",
      "\t\tMean:  206.667\n",
      "--------------------------------------------------------------------------------\n",
      "\t train\n",
      "prob01.pddl 32.0\n",
      "prob02.pddl 40.0\n",
      "prob04.pddl 39.0\n",
      "prob05.pddl 61.0\n",
      "prob06.pddl 36.0\n",
      "prob07.pddl 97.0\n",
      "prob08.pddl 70.0\n",
      "prob09.pddl 164.0\n",
      "prob10.pddl 71.0\n",
      "prob12.pddl 64.0\n",
      "prob13.pddl 131.0\n",
      "prob15.pddl 145.0\n",
      "prob16.pddl 110.0\n",
      "prob17.pddl 100.0\n",
      "prob18.pddl 4124.0\n",
      "prob19.pddl 274.0\n",
      "prob20.pddl 158.0\n",
      "prob21.pddl 83.0\n",
      "prob22.pddl 320.0\n",
      "prob23.pddl 161.0\n",
      "prob24.pddl 158.0\n",
      "prob26.pddl 1148.0\n",
      "prob28.pddl 234.0\n",
      "prob30.pddl 154.0\n",
      "\t\tMean:  332.25\n",
      "--------------------------------------------------------------------------------\n",
      "\t\tOverall Mean:  307.133\n",
      "################################################################################\n"
     ]
    }
   ],
   "source": [
    "# Load the validated STATIC data\n",
    "\n",
    "import itertools\n",
    "exp_dir = '/home/biedenka/git/rl-plan'\n",
    "static_data = {}\n",
    "static_data_time = {}\n",
    "\n",
    "cutoff = 7500  # used cutoff for all experiments\n",
    "\n",
    "for epm in ['assembly_v3']:\n",
    "    print(epm, end=' ')\n",
    "    data_dir = \"/mhome/biedenka/rl-plan-tmp/experiments/%s\" % epm\n",
    "    static_data[epm] = {}\n",
    "    static_data_time[epm] = {}\n",
    "    \n",
    "    best_action, best_perf = None, np.inf\n",
    "    oracle_portfolio = {}\n",
    "    for action in range(3):  # for all individual actions\n",
    "        static_data[epm][action] = {}\n",
    "        static_data_time[epm][action] = {}\n",
    "        try:\n",
    "            for TEST in [True, False]:  # For all trining and test splits\n",
    "                insts = sorted(os.listdir(\n",
    "                    os.path.join(data_dir, 'assembly-crossvalidation',\n",
    "                                 'split1', 'test' if TEST else 'train')))\n",
    "                key = 'test' if TEST else 'train'\n",
    "                static_data[epm][action][key] = {}\n",
    "                static_data_time[epm][action][key] = {}\n",
    "                file=os.path.join(\n",
    "                    data_dir,\n",
    "                    '%s-static-%d.json' % (\n",
    "                        'test' if TEST else 'train', action))\n",
    "#                 print(file)\n",
    "                with open(file, 'r') as fh:\n",
    "                    data = json.load(fh)\n",
    "\n",
    "                for inst_idx, inst in enumerate(insts):\n",
    "                    if inst not in static_data:\n",
    "                        static_data[epm][action][key][inst] = []\n",
    "                        static_data_time[epm][action][key][inst] = []\n",
    "                    static_data[epm][action][key][inst].append(len(\n",
    "                        data['trajectories'][inst_idx]))\n",
    "                    static_data_time[epm][action][key][inst].append(\n",
    "                        data['times_per_episode'][inst_idx])\n",
    "\n",
    "                for inst in static_data[epm][action][key]:\n",
    "                    static_data[epm][action][key][inst] = np.mean(\n",
    "                        static_data[epm][action][key][inst])\n",
    "                    static_data_time[epm][action][key][inst] = np.mean(\n",
    "                        static_data_time[epm][action][key][inst])\n",
    "                    if inst not in oracle_portfolio:\n",
    "                        oracle_portfolio[inst] = np.mean(\n",
    "                        static_data[epm][action][key][inst])\n",
    "                    elif static_data[epm][action][key][inst] < oracle_portfolio[inst]:\n",
    "                        oracle_portfolio[inst] = static_data[epm][action][key][inst]\n",
    "            average_on_train = np.mean(\n",
    "                list(static_data[epm][action]['train'].values())\n",
    "                )\n",
    "            if average_on_train < best_perf:\n",
    "                best_action = action\n",
    "                best_perf = average_on_train\n",
    "        except:\n",
    "            print('Action %d not done' % action)\n",
    "    static_data[epm]['best_action'] = best_action\n",
    "    static_data[epm]['oracle'] = oracle_portfolio\n",
    "    print('- best action: %d' % best_action)\n",
    "    for key in ['test', 'train']:\n",
    "        print('\\t', key)\n",
    "        for (k, v) in zip(static_data[epm][best_action][key].keys(), \n",
    "                          static_data[epm][best_action][key].values()):\n",
    "            print('\\t', k, v)\n",
    "        print('\\t\\tMean: ', np.around(\n",
    "            np.mean(list(static_data[epm][best_action][key].values())), decimals=3))\n",
    "        print('-'*80)\n",
    "    \n",
    "    print('\\t\\tOverall Mean: ', np.around(\n",
    "        np.mean(list(static_data[epm][best_action]['train'].values()) + \n",
    "                list(static_data[epm][best_action]['test'].values())\n",
    "               ), decimals=3))\n",
    "    print('#'*80)\n",
    "\n",
    "\n",
    "print('\\n'*3)\n",
    "print('Static Oracle Performance')\n",
    "for epm in ['assembly_v3']:\n",
    "    print(epm)\n",
    "    for key in ['test', 'train']:\n",
    "        print('\\t', key)\n",
    "        vals = []\n",
    "        for inst in static_data[epm][0][key].keys():\n",
    "            v = static_data[epm]['oracle'][inst]\n",
    "            vals.append(v)\n",
    "            print(inst, v)\n",
    "        print('\\t\\tMean: ', np.around(np.mean(vals), decimals=3))\n",
    "        print('-'*80)\n",
    "    \n",
    "    print('\\t\\tOverall Mean: ', np.around(np.mean(\n",
    "        list(static_data[epm]['oracle'].values())), decimals=3))\n",
    "    print('#'*80)"
   ]
  },
  {
   "cell_type": "markdown",
   "metadata": {},
   "source": [
    "<BR><BR><BR><BR><BR><BR><BR>"
   ]
  },
  {
   "cell_type": "code",
   "execution_count": 14,
   "metadata": {
    "scrolled": true
   },
   "outputs": [
    {
     "name": "stdout",
     "output_type": "stream",
     "text": [
      "TEST  True\n",
      "0\n",
      "SPLIT 1\n",
      "SPLIT 2\n",
      "SPLIT 3\n",
      "SPLIT 4\n",
      "SPLIT 5\n",
      "1\n",
      "SPLIT 1\n",
      "SPLIT 2\n",
      "SPLIT 3\n",
      "SPLIT 4\n",
      "SPLIT 5\n",
      "2\n",
      "SPLIT 1\n",
      "SPLIT 2\n",
      "SPLIT 3\n",
      "SPLIT 4\n",
      "SPLIT 5\n",
      "3\n",
      "SPLIT 1\n",
      "SPLIT 2\n",
      "SPLIT 3\n",
      "SPLIT 4\n",
      "SPLIT 5\n",
      "4\n",
      "SPLIT 1\n",
      "SPLIT 2\n",
      "SPLIT 3\n",
      "SPLIT 4\n",
      "SPLIT 5\n",
      "5\n",
      "SPLIT 1\n",
      "SPLIT 2\n",
      "SPLIT 3\n",
      "SPLIT 4\n",
      "SPLIT 5\n",
      "TEST  False\n",
      "0\n",
      "SPLIT 1\n",
      "SPLIT 2\n",
      "SPLIT 3\n",
      "SPLIT 4\n",
      "SPLIT 5\n",
      "1\n",
      "SPLIT 1\n",
      "SPLIT 2\n",
      "SPLIT 3\n",
      "SPLIT 4\n",
      "SPLIT 5\n",
      "2\n",
      "SPLIT 1\n",
      "SPLIT 2\n",
      "SPLIT 3\n",
      "SPLIT 4\n",
      "SPLIT 5\n",
      "3\n",
      "SPLIT 1\n",
      "SPLIT 2\n",
      "SPLIT 3\n",
      "SPLIT 4\n",
      "SPLIT 5\n",
      "4\n",
      "SPLIT 1\n",
      "SPLIT 2\n",
      "SPLIT 3\n",
      "SPLIT 4\n",
      "SPLIT 5\n",
      "5\n",
      "SPLIT 1\n",
      "SPLIT 2\n",
      "SPLIT 3\n",
      "SPLIT 4\n",
      "SPLIT 5\n",
      "0 499.23333333333335\n",
      "1 388.76666666666665\n",
      "2 389.8333333333333\n",
      "3 492.56666666666666\n",
      "4 445.73333333333335\n",
      "5 390.6\n",
      "\n",
      "Best RR:  (0, 2, 1)\n",
      "Performance:  388.76666666666665\n"
     ]
    },
    {
     "data": {
      "text/plain": [
       "{'prob01.pddl': 0.029643154144287108,\n",
       " 'prob02.pddl': 0.04031987190246582,\n",
       " 'prob03.pddl': 0.0730769157409668,\n",
       " 'prob04.pddl': 0.0984717845916748,\n",
       " 'prob05.pddl': 0.09353151321411132,\n",
       " 'prob06.pddl': 0.059009218215942384,\n",
       " 'prob07.pddl': 0.23941783905029296,\n",
       " 'prob08.pddl': 0.08128705024719238,\n",
       " 'prob09.pddl': 0.28375959396362305,\n",
       " 'prob10.pddl': 0.11329450607299804,\n",
       " 'prob11.pddl': 0.33239359855651857,\n",
       " 'prob12.pddl': 0.2169558048248291,\n",
       " 'prob13.pddl': 0.3545832633972168,\n",
       " 'prob14.pddl': 0.49930429458618164,\n",
       " 'prob15.pddl': 0.9407805442810059,\n",
       " 'prob16.pddl': 1.8214296340942382,\n",
       " 'prob17.pddl': 0.5156373023986817,\n",
       " 'prob18.pddl': 82.4354215145111,\n",
       " 'prob19.pddl': 2.1365176677703857,\n",
       " 'prob20.pddl': 1.826820468902588,\n",
       " 'prob21.pddl': 0.8147505760192871,\n",
       " 'prob22.pddl': 1.7657555103302003,\n",
       " 'prob23.pddl': 2.0643496990203856,\n",
       " 'prob24.pddl': 2.0771420001983643,\n",
       " 'prob25.pddl': 3.632835578918457,\n",
       " 'prob26.pddl': 15.333627080917358,\n",
       " 'prob27.pddl': 3.6576151847839355,\n",
       " 'prob28.pddl': 2.4702608585357666,\n",
       " 'prob29.pddl': 4.019788932800293,\n",
       " 'prob30.pddl': 1.8322317123413085}"
      ]
     },
     "execution_count": 14,
     "metadata": {},
     "output_type": "execute_result"
    }
   ],
   "source": [
    "# Load the validated RR data\n",
    "\n",
    "import itertools\n",
    "perms = list(itertools.permutations([0, 1, 2]))\n",
    "\n",
    "exp_dir = '/home/biedenka/git/rl-plan'\n",
    "rr_data = {}\n",
    "\n",
    "p = perms[0]\n",
    "perm_instance_data = {\n",
    "    0: {},\n",
    "    1: {},\n",
    "    2: {},\n",
    "    3: {},\n",
    "    4: {},\n",
    "    5: {},\n",
    "}\n",
    "perm_instance_data_time = {\n",
    "    0: {},\n",
    "    1: {},\n",
    "    2: {},\n",
    "    3: {},\n",
    "    4: {},\n",
    "    5: {},\n",
    "}\n",
    "cutoff = 7500  # used cutoff for all experiments\n",
    "for TEST in [True, False]:  # For all trining and test splits\n",
    "    print('TEST ', TEST)\n",
    "    rr_perm_cost = {}\n",
    "    rr_perm_traj = {}\n",
    "    rr_perm_tims = {}\n",
    "    perm_id = 0\n",
    "    for p in perms:\n",
    "        print(perm_id)\n",
    "        rr_cost = {}\n",
    "        rr_traj = {}\n",
    "        rr_tims = {}\n",
    "        for split in range(1, 6):\n",
    "            print('SPLIT %d' % split)\n",
    "            timeouts = 0\n",
    "            means = []\n",
    "            trajs = []\n",
    "            timouts = []\n",
    "            file=os.path.join(\n",
    "                data_dir,\n",
    "                '%s-rr-%d-%d-%d-seed--split%d.json' % (\n",
    "                    'test' if TEST else 'train', p[0], p[1], p[2], split))\n",
    "#             print(file)\n",
    "            with open(file, 'r') as fh:\n",
    "                data = json.load(fh)\n",
    "#             perm_instance_data[perm_id][\n",
    "#                 'test' if TEST else 'train'] = list(map(len, data['trajectories']))\n",
    "            train_insts = split_map[split]['train']\n",
    "            test_insts = split_map[split]['test']\n",
    "            test_idx, train_idx = 0, 0\n",
    "            for i in range(1, len(train_insts) + len(test_insts) + 1):\n",
    "                name = 'prob{:02d}.pddl'.format(i)\n",
    "                if name not in perm_instance_data[perm_id]:\n",
    "                    perm_instance_data[perm_id][name] = []\n",
    "                    perm_instance_data_time[perm_id][name] = []\n",
    "                if TEST and name in test_insts:\n",
    "                    perm_instance_data[perm_id][name].append(len(\n",
    "                        data['trajectories'][test_idx]))\n",
    "                    perm_instance_data_time[perm_id][name].append(\n",
    "                        data['times_per_episode'][test_idx])\n",
    "                    test_idx += 1\n",
    "                elif not TEST and name in train_insts:\n",
    "                    perm_instance_data[perm_id][name].append(len(\n",
    "                        data['trajectories'][train_idx]))\n",
    "                    perm_instance_data_time[perm_id][name].append(\n",
    "                        data['times_per_episode'][train_idx])\n",
    "                    train_idx += 1\n",
    "        perm_id += 1\n",
    "\n",
    "best_permuatation = None\n",
    "best_perm_perf = np.inf\n",
    "for perm_id in perm_instance_data:\n",
    "    for instance in perm_instance_data[perm_id]:\n",
    "        perm_instance_data[perm_id][instance] = np.mean(\n",
    "            perm_instance_data[perm_id][instance])\n",
    "        perm_instance_data_time[perm_id][instance] = np.mean(\n",
    "            perm_instance_data_time[perm_id][instance])\n",
    "    perf = np.mean(list(perm_instance_data[perm_id].values()))\n",
    "    if perf < best_perm_perf:\n",
    "        best_perm_perf = perf\n",
    "        best_permuatation = perm_id\n",
    "    print(perm_id, perf)\n",
    "print()\n",
    "print('Best RR: ', perms[best_permuatation])\n",
    "print('Performance: ', best_perm_perf)\n",
    "\n",
    "perm_instance_data_time[best_permuatation]"
   ]
  },
  {
   "cell_type": "code",
   "execution_count": 15,
   "metadata": {
    "scrolled": true
   },
   "outputs": [
    {
     "data": {
      "text/plain": [
       "{'prob01.pddl': 34.0,\n",
       " 'prob02.pddl': 52.0,\n",
       " 'prob03.pddl': 41.0,\n",
       " 'prob04.pddl': 67.0,\n",
       " 'prob05.pddl': 62.0,\n",
       " 'prob06.pddl': 58.0,\n",
       " 'prob07.pddl': 104.0,\n",
       " 'prob08.pddl': 74.0,\n",
       " 'prob09.pddl': 181.0,\n",
       " 'prob10.pddl': 78.0,\n",
       " 'prob11.pddl': 142.0,\n",
       " 'prob12.pddl': 111.0,\n",
       " 'prob13.pddl': 252.0,\n",
       " 'prob14.pddl': 208.0,\n",
       " 'prob15.pddl': 284.0,\n",
       " 'prob16.pddl': 491.0,\n",
       " 'prob17.pddl': 149.0,\n",
       " 'prob18.pddl': 4159.0,\n",
       " 'prob19.pddl': 566.0,\n",
       " 'prob20.pddl': 260.0,\n",
       " 'prob21.pddl': 129.0,\n",
       " 'prob22.pddl': 326.0,\n",
       " 'prob23.pddl': 335.0,\n",
       " 'prob24.pddl': 254.0,\n",
       " 'prob25.pddl': 396.0,\n",
       " 'prob26.pddl': 1509.0,\n",
       " 'prob27.pddl': 340.0,\n",
       " 'prob28.pddl': 323.0,\n",
       " 'prob29.pddl': 408.0,\n",
       " 'prob30.pddl': 270.0}"
      ]
     },
     "execution_count": 15,
     "metadata": {},
     "output_type": "execute_result"
    }
   ],
   "source": [
    "perm_instance_data[best_permuatation]"
   ]
  },
  {
   "cell_type": "markdown",
   "metadata": {},
   "source": [
    "<BR><BR><BR><BR><BR><BR><BR>"
   ]
  },
  {
   "cell_type": "code",
   "execution_count": 16,
   "metadata": {
    "scrolled": false
   },
   "outputs": [
    {
     "name": "stdout",
     "output_type": "stream",
     "text": [
      "TEST  True\n",
      "SPLIT 1\n",
      "SPLIT 2\n",
      "SPLIT 3\n",
      "SPLIT 4\n",
      "SPLIT 5\n",
      "TEST  False\n",
      "SPLIT 1\n",
      "SPLIT 2\n",
      "SPLIT 3\n",
      "SPLIT 4\n",
      "SPLIT 5\n"
     ]
    }
   ],
   "source": [
    "# Load the validated RAND data\n",
    "\n",
    "import itertools\n",
    "exp_dir = '/home/biedenka/git/rl-plan'\n",
    "rand_data = {}\n",
    "rand_data_time = {}\n",
    "\n",
    "cutoff = 7500  # used cutoff for all experiments\n",
    "for TEST in [True, False]:  # For all trining and test splits\n",
    "    print('TEST ', TEST)\n",
    "    rand_cost = {}\n",
    "    rand_traj = {}\n",
    "    rand_tims = {}\n",
    "    for split in range(1, 6):\n",
    "        print('SPLIT %d' % split)\n",
    "        timeouts = 0\n",
    "        means = []\n",
    "        trajs = []\n",
    "        timouts = []\n",
    "        for seed in range(1, 11):  # for all 10 seeds\n",
    "            file=os.path.join(\n",
    "                data_dir,\n",
    "                '%s-rand-seed-%d-split%d.json' % (\n",
    "                    'test' if TEST else 'train', seed, split))\n",
    "#                 print(file)\n",
    "            with open(file, 'r') as fh:\n",
    "                data = json.load(fh)\n",
    "            train_insts = split_map[split]['train']\n",
    "            test_insts = split_map[split]['test']\n",
    "            test_idx, train_idx = 0, 0\n",
    "            for i in range(1, len(train_insts) + len(test_insts) + 1):\n",
    "                name = 'prob{:02d}.pddl'.format(i)\n",
    "                if name not in rand_data:\n",
    "                    rand_data[name] = []\n",
    "                    rand_data_time[name] = []\n",
    "                if TEST and name in test_insts:\n",
    "                    rand_data[name].append(len(\n",
    "                        data['trajectories'][test_idx]))\n",
    "                    rand_data_time[name].append(\n",
    "                        data['times_per_episode'][test_idx])\n",
    "                    test_idx += 1\n",
    "                elif not TEST and name in train_insts:\n",
    "                    rand_data[name].append(len(\n",
    "                        data['trajectories'][train_idx]))\n",
    "                    rand_data_time[name].append(\n",
    "                        data['times_per_episode'][train_idx])\n",
    "                    train_idx += 1\n",
    "                    \n",
    "for inst in rand_data:\n",
    "    rand_data[inst] = np.mean(rand_data[inst])\n",
    "    rand_data_time[inst] = np.mean(rand_data_time[inst])"
   ]
  },
  {
   "cell_type": "code",
   "execution_count": 17,
   "metadata": {},
   "outputs": [
    {
     "data": {
      "text/plain": [
       "{'prob01.pddl': 43.8,\n",
       " 'prob02.pddl': 57.5,\n",
       " 'prob03.pddl': 48.98,\n",
       " 'prob04.pddl': 57.82,\n",
       " 'prob05.pddl': 81.08,\n",
       " 'prob06.pddl': 64.7,\n",
       " 'prob07.pddl': 674.68,\n",
       " 'prob08.pddl': 86.74,\n",
       " 'prob09.pddl': 204.02,\n",
       " 'prob10.pddl': 108.72,\n",
       " 'prob11.pddl': 177.48,\n",
       " 'prob12.pddl': 108.6,\n",
       " 'prob13.pddl': 350.56,\n",
       " 'prob14.pddl': 310.36,\n",
       " 'prob15.pddl': 282.64,\n",
       " 'prob16.pddl': 319.6,\n",
       " 'prob17.pddl': 164.24,\n",
       " 'prob18.pddl': 3857.4,\n",
       " 'prob19.pddl': 471.76,\n",
       " 'prob20.pddl': 422.12,\n",
       " 'prob21.pddl': 143.72,\n",
       " 'prob22.pddl': 519.64,\n",
       " 'prob23.pddl': 332.14,\n",
       " 'prob24.pddl': 293.68,\n",
       " 'prob25.pddl': 415.82,\n",
       " 'prob26.pddl': 1358.96,\n",
       " 'prob27.pddl': 812.74,\n",
       " 'prob28.pddl': 440.42,\n",
       " 'prob29.pddl': 472.82,\n",
       " 'prob30.pddl': 303.24}"
      ]
     },
     "execution_count": 17,
     "metadata": {},
     "output_type": "execute_result"
    }
   ],
   "source": [
    "rand_data"
   ]
  },
  {
   "cell_type": "code",
   "execution_count": 18,
   "metadata": {
    "scrolled": false
   },
   "outputs": [
    {
     "data": {
      "text/plain": [
       "{'prob01.pddl': 0.03836019515991211,\n",
       " 'prob02.pddl': 0.04665818691253662,\n",
       " 'prob03.pddl': 0.08649358749389649,\n",
       " 'prob04.pddl': 0.08594547271728516,\n",
       " 'prob05.pddl': 0.12434402465820313,\n",
       " 'prob06.pddl': 0.06712327480316162,\n",
       " 'prob07.pddl': 1.9005719709396363,\n",
       " 'prob08.pddl': 0.09729091644287109,\n",
       " 'prob09.pddl': 0.3338636493682861,\n",
       " 'prob10.pddl': 0.16221830368041992,\n",
       " 'prob11.pddl': 0.4026650476455689,\n",
       " 'prob12.pddl': 0.2317136526107788,\n",
       " 'prob13.pddl': 0.548169846534729,\n",
       " 'prob14.pddl': 0.8092285585403443,\n",
       " 'prob15.pddl': 0.892963981628418,\n",
       " 'prob16.pddl': 1.297712426185608,\n",
       " 'prob17.pddl': 0.5628949213027954,\n",
       " 'prob18.pddl': 73.81190323352814,\n",
       " 'prob19.pddl': 1.6633706378936768,\n",
       " 'prob20.pddl': 3.1230208492279052,\n",
       " 'prob21.pddl': 0.9435604810714722,\n",
       " 'prob22.pddl': 3.1377308559417725,\n",
       " 'prob23.pddl': 1.8741585302352906,\n",
       " 'prob24.pddl': 2.220223879814148,\n",
       " 'prob25.pddl': 3.613601050376892,\n",
       " 'prob26.pddl': 13.630959930419921,\n",
       " 'prob27.pddl': 7.953423900604248,\n",
       " 'prob28.pddl': 3.5054409170150755,\n",
       " 'prob29.pddl': 4.5692964220047,\n",
       " 'prob30.pddl': 1.9727782487869263}"
      ]
     },
     "execution_count": 18,
     "metadata": {},
     "output_type": "execute_result"
    }
   ],
   "source": [
    "rand_data_time"
   ]
  },
  {
   "cell_type": "code",
   "execution_count": 19,
   "metadata": {},
   "outputs": [
    {
     "data": {
      "text/plain": [
       "432.86599999999993"
      ]
     },
     "execution_count": 19,
     "metadata": {},
     "output_type": "execute_result"
    }
   ],
   "source": [
    "np.mean(list(rand_data.values()))"
   ]
  },
  {
   "cell_type": "markdown",
   "metadata": {},
   "source": [
    "<BR><BR><BR><BR><BR><BR><BR>"
   ]
  },
  {
   "cell_type": "code",
   "execution_count": 20,
   "metadata": {},
   "outputs": [],
   "source": [
    "best_results = {}\n",
    "qualities = {\n",
    "    'RL': [],\n",
    "    'RR': [],\n",
    "    'RAND': [],\n",
    "    'RL-TEST': []\n",
    "}\n",
    "for instance in rand_data.keys():\n",
    "    best = np.inf\n",
    "    b = None\n",
    "    if rand_data[instance] < best:\n",
    "        best = rand_data[instance]\n",
    "    if perm_instance_data[best_permuatation][instance] < best:\n",
    "        best = perm_instance_data[best_permuatation][instance]\n",
    "    if average_rl_test_results[instance] < best:\n",
    "        best = average_rl_test_results[instance]\n",
    "    if average_rl_train_results[instance] < best:\n",
    "        best = average_rl_train_results[instance]\n",
    "    best_results[instance] = best\n",
    "    qualities['RL'].append(best/average_rl_train_results[instance])\n",
    "    qualities['RR'].append(best/perm_instance_data[best_permuatation][instance])\n",
    "    qualities['RAND'].append(best/rand_data[instance])\n",
    "    qualities['RL-TEST'].append(best/average_rl_test_results[instance])"
   ]
  },
  {
   "cell_type": "code",
   "execution_count": 21,
   "metadata": {
    "scrolled": true
   },
   "outputs": [
    {
     "data": {
      "text/plain": [
       "{'RL': [1.0,\n",
       "  0.9603900060938451,\n",
       "  0.5290322580645161,\n",
       "  1.0,\n",
       "  1.0,\n",
       "  0.9868421052631579,\n",
       "  0.8507157464212679,\n",
       "  1.0,\n",
       "  0.9995103639627876,\n",
       "  1.0,\n",
       "  0.9782480893592003,\n",
       "  0.9659813084112149,\n",
       "  0.9428203713917997,\n",
       "  1.0,\n",
       "  0.9894990531933207,\n",
       "  0.9466520307354556,\n",
       "  0.972972972972973,\n",
       "  0.9574919638092165,\n",
       "  1.0,\n",
       "  1.0,\n",
       "  1.0,\n",
       "  0.9918408578755148,\n",
       "  1.0,\n",
       "  1.0,\n",
       "  1.0,\n",
       "  1.0,\n",
       "  1.0,\n",
       "  1.0,\n",
       "  0.9825052484254724,\n",
       "  0.9663990484686291],\n",
       " 'RR': [0.9433823529411766,\n",
       "  0.7576923076923077,\n",
       "  1.0,\n",
       "  0.6029850746268658,\n",
       "  0.8629032258064516,\n",
       "  0.646551724137931,\n",
       "  1.0,\n",
       "  0.808445945945946,\n",
       "  0.8458563535911602,\n",
       "  0.8455128205128204,\n",
       "  0.8788732394366197,\n",
       "  0.5819819819819819,\n",
       "  0.5087301587301587,\n",
       "  0.7527644230769232,\n",
       "  0.5059859154929577,\n",
       "  0.2195519348268839,\n",
       "  0.6704697986577182,\n",
       "  0.927482567924982,\n",
       "  0.47469081272084807,\n",
       "  0.6476923076923076,\n",
       "  0.6641472868217055,\n",
       "  0.978834355828221,\n",
       "  0.5013432835820896,\n",
       "  0.6381889763779527,\n",
       "  0.6465277777777777,\n",
       "  0.485934393638171,\n",
       "  0.8231617647058823,\n",
       "  0.7472910216718266,\n",
       "  0.7742647058823529,\n",
       "  0.6018518518518519],\n",
       " 'RAND': [0.7323059360730595,\n",
       "  0.6852173913043478,\n",
       "  0.8370763576970193,\n",
       "  0.6987201660325147,\n",
       "  0.6598421312284164,\n",
       "  0.579598145285935,\n",
       "  0.15414715124207032,\n",
       "  0.6897048651141343,\n",
       "  0.7504166258209979,\n",
       "  0.6066041206769682,\n",
       "  0.7031778228532792,\n",
       "  0.5948434622467771,\n",
       "  0.36570059333637606,\n",
       "  0.5044947802551876,\n",
       "  0.5084206057175205,\n",
       "  0.33729662077596995,\n",
       "  0.6082562104237701,\n",
       "  1.0,\n",
       "  0.5695162794641343,\n",
       "  0.3989386904197858,\n",
       "  0.5961244085722238,\n",
       "  0.6140789777538296,\n",
       "  0.5056602637442043,\n",
       "  0.5519613184418414,\n",
       "  0.6157111250060122,\n",
       "  0.5395854182610231,\n",
       "  0.34435981986859265,\n",
       "  0.5480564007084147,\n",
       "  0.6681189458990736,\n",
       "  0.5358791716132436],\n",
       " 'RL-TEST': [0.9603293413173654,\n",
       "  1.0,\n",
       "  0.5324675324675324,\n",
       "  0.9505882352941177,\n",
       "  0.9336823734729495,\n",
       "  1.0,\n",
       "  0.09459705293796615,\n",
       "  0.8320584144645341,\n",
       "  1.0,\n",
       "  0.9641812865497074,\n",
       "  1.0,\n",
       "  1.0,\n",
       "  1.0,\n",
       "  0.861722619702807,\n",
       "  1.0,\n",
       "  1.0,\n",
       "  1.0,\n",
       "  0.934379768912143,\n",
       "  0.9534244144783535,\n",
       "  0.9842197545295148,\n",
       "  0.894311064718163,\n",
       "  1.0,\n",
       "  0.9798716452742122,\n",
       "  0.9854103343465045,\n",
       "  0.9062831858407079,\n",
       "  0.7271667988893297,\n",
       "  0.25383185198621444,\n",
       "  0.9953608247422681,\n",
       "  1.0,\n",
       "  1.0]}"
      ]
     },
     "execution_count": 21,
     "metadata": {},
     "output_type": "execute_result"
    }
   ],
   "source": [
    "qualities"
   ]
  },
  {
   "cell_type": "code",
   "execution_count": 22,
   "metadata": {},
   "outputs": [
    {
     "name": "stdout",
     "output_type": "stream",
     "text": [
      "RL 96.73633808149457\n",
      "RR 71.1436612131129\n",
      "RAND 58.34604601945574\n",
      "RL-TEST 89.14628833308129\n"
     ]
    }
   ],
   "source": [
    "for key in qualities:\n",
    "    print(key, np.mean(qualities[key]) * 100)"
   ]
  },
  {
   "cell_type": "markdown",
   "metadata": {},
   "source": [
    "<BR><BR><BR><BR><BR><BR><BR>"
   ]
  },
  {
   "cell_type": "code",
   "execution_count": 23,
   "metadata": {},
   "outputs": [
    {
     "name": "stdout",
     "output_type": "stream",
     "text": [
      "[0.000e+00 1.000e-02 2.000e-02 ... 5.997e+01 5.998e+01 5.999e+01]\n"
     ]
    },
    {
     "data": {
      "text/plain": [
       "[<matplotlib.lines.Line2D at 0x7f5ec3db47b8>]"
      ]
     },
     "execution_count": 23,
     "metadata": {},
     "output_type": "execute_result"
    },
    {
     "data": {
      "image/png": "[encoded data removed]",
      "text/plain": [
       "<Figure size 432x288 with 1 Axes>"
      ]
     },
     "metadata": {},
     "output_type": "display_data"
    }
   ],
   "source": [
    "y = np.logspace(np.log10(100), np.log10(0.01), 60*100)\n",
    "x = np.arange(len(y))/100\n",
    "print(x)\n",
    "plt.plot(x, y)"
   ]
  },
  {
   "cell_type": "code",
   "execution_count": 24,
   "metadata": {
    "scrolled": false
   },
   "outputs": [
    {
     "name": "stdout",
     "output_type": "stream",
     "text": [
      "RL 85.04939382540341\n",
      "RR 79.80587041346777\n",
      "RAND 76.78428311214924\n",
      "RL-TEST 78.06347677976328\n"
     ]
    }
   ],
   "source": [
    "speeds = {\n",
    "    'RL': [],\n",
    "    'RR': [],\n",
    "    'RAND': [],\n",
    "    'RL-TEST': []\n",
    "}\n",
    "\n",
    "for instance in rand_data.keys():\n",
    "    time = average_rl_times_train[instance]\n",
    "    x_idx = 0\n",
    "    try:\n",
    "        while time > x[x_idx]:\n",
    "            x_idx += 1\n",
    "        speeds['RL'].append(y[x_idx])\n",
    "    except IndexError:\n",
    "        speeds['RL'].append(0)\n",
    "    \n",
    "    \n",
    "    try:\n",
    "        time = average_rl_times_test[instance]\n",
    "        x_idx = 0\n",
    "        while time > x[x_idx]:\n",
    "            x_idx += 1\n",
    "        speeds['RL-TEST'].append(y[x_idx])\n",
    "    except IndexError:\n",
    "        speeds['RL-TEST'].append(0)\n",
    "    \n",
    "    \n",
    "    try:\n",
    "        time = perm_instance_data_time[best_permuatation][instance]\n",
    "        x_idx = 0\n",
    "        while time > x[x_idx]:\n",
    "            x_idx += 1\n",
    "        speeds['RR'].append(y[x_idx])\n",
    "    except IndexError:\n",
    "        speeds['RR'].append(0)\n",
    "    \n",
    "    \n",
    "    try:\n",
    "        time = rand_data_time[instance]\n",
    "        x_idx = 0\n",
    "        while time > x[x_idx]:\n",
    "            x_idx += 1\n",
    "        speeds['RAND'].append(y[x_idx])\n",
    "    except IndexError:\n",
    "        speeds['RAND'].append(0)\n",
    "\n",
    "for key in speeds:\n",
    "    print(key, np.mean(speeds[key]))"
   ]
  },
  {
   "cell_type": "markdown",
   "metadata": {},
   "source": [
    "<BR><BR><BR><BR><BR><BR><BR>"
   ]
  },
  {
   "cell_type": "code",
   "execution_count": 25,
   "metadata": {},
   "outputs": [
    {
     "data": {
      "text/plain": [
       "array([[1.00000000e+00, 4.63726735e-01, 2.96431541e-02, 3.83601952e-02],\n",
       "       [2.00000000e+00, 1.64128038e+00, 4.03198719e-02, 4.66581869e-02],\n",
       "       [3.00000000e+00, 5.77168024e-01, 7.30769157e-02, 8.64935875e-02],\n",
       "       [4.00000000e+00, 3.35204784e-01, 9.84717846e-02, 8.59454727e-02],\n",
       "       [5.00000000e+00, 5.06137156e-01, 9.35315132e-02, 1.24344025e-01],\n",
       "       [6.00000000e+00, 5.00866592e-01, 5.90092182e-02, 6.71232748e-02],\n",
       "       [7.00000000e+00, 1.92897247e+00, 2.39417839e-01, 1.90057197e+00],\n",
       "       [8.00000000e+00, 1.47618750e+00, 8.12870502e-02, 9.72909164e-02],\n",
       "       [9.00000000e+00, 1.20363386e+00, 2.83759594e-01, 3.33863649e-01],\n",
       "       [1.00000000e+01, 1.20783402e+00, 1.13294506e-01, 1.62218304e-01],\n",
       "       [1.10000000e+01, 4.94727333e-01, 3.32393599e-01, 4.02665048e-01],\n",
       "       [1.20000000e+01, 4.00575892e-01, 2.16955805e-01, 2.31713653e-01],\n",
       "       [1.30000000e+01, 3.17739427e-01, 3.54583263e-01, 5.48169847e-01],\n",
       "       [1.40000000e+01, 5.00041682e-01, 4.99304295e-01, 8.09228559e-01],\n",
       "       [1.50000000e+01, 1.03329206e+00, 9.40780544e-01, 8.92963982e-01],\n",
       "       [1.60000000e+01, 3.59992924e-01, 1.82142963e+00, 1.29771243e+00],\n",
       "       [1.70000000e+01, 4.00027895e-01, 5.15637302e-01, 5.62894921e-01],\n",
       "       [1.80000000e+01, 1.65663684e+01, 8.24354215e+01, 7.38119032e+01],\n",
       "       [1.90000000e+01, 1.17925464e+00, 2.13651767e+00, 1.66337064e+00],\n",
       "       [2.00000000e+01, 1.17143080e+00, 1.82682047e+00, 3.12302085e+00],\n",
       "       [2.10000000e+01, 9.64166427e-01, 8.14750576e-01, 9.43560481e-01],\n",
       "       [2.20000000e+01, 6.18708833e-01, 1.76575551e+00, 3.13773086e+00],\n",
       "       [2.30000000e+01, 1.39280891e+01, 2.06434970e+00, 1.87415853e+00],\n",
       "       [2.40000000e+01, 1.01167251e+00, 2.07714200e+00, 2.22022388e+00],\n",
       "       [2.50000000e+01, 9.07598457e-01, 3.63283558e+00, 3.61360105e+00],\n",
       "       [2.60000000e+01, 1.55790430e+00, 1.53336271e+01, 1.36309599e+01],\n",
       "       [2.70000000e+01, 3.57864261e+00, 3.65761518e+00, 7.95342390e+00],\n",
       "       [2.80000000e+01, 1.21935320e+01, 2.47026086e+00, 3.50544092e+00],\n",
       "       [2.90000000e+01, 3.51985574e+00, 4.01978893e+00, 4.56929642e+00],\n",
       "       [3.00000000e+01, 9.97733341e-01, 1.83223171e+00, 1.97277825e+00]])"
      ]
     },
     "execution_count": 25,
     "metadata": {},
     "output_type": "execute_result"
    }
   ],
   "source": [
    "all_times = np.array(\n",
    "    [[int(inst.replace('prob', '').replace('.pddl', '')),\n",
    "      average_rl_times_test[inst],\n",
    "      perm_instance_data_time[best_permuatation][inst],\n",
    "      rand_data_time[inst]]\n",
    "     for inst in rand_data.keys()\n",
    "    ])\n",
    "all_times"
   ]
  },
  {
   "cell_type": "code",
   "execution_count": 26,
   "metadata": {},
   "outputs": [
    {
     "name": "stdout",
     "output_type": "stream",
     "text": [
      "Average solve time per instance in sec\n",
      "  RL     RR   RAND\n",
      "[2.385 4.329 4.324]\n"
     ]
    }
   ],
   "source": [
    "print('Average solve time per instance in sec')\n",
    "print('  RL', '    RR', '  RAND')\n",
    "print(np.around(np.mean(all_times[:, 1:], axis=0), decimals=3))"
   ]
  },
  {
   "cell_type": "code",
   "execution_count": 27,
   "metadata": {},
   "outputs": [
    {
     "name": "stdout",
     "output_type": "stream",
     "text": [
      "[[4.00000000e+00 3.35204784e-01 9.84717846e-02 8.59454727e-02]\n",
      " [1.00000000e+00 4.63726735e-01 2.96431541e-02 3.83601952e-02]\n",
      " [6.00000000e+00 5.00866592e-01 5.90092182e-02 6.71232748e-02]\n",
      " [5.00000000e+00 5.06137156e-01 9.35315132e-02 1.24344025e-01]\n",
      " [3.00000000e+00 5.77168024e-01 7.30769157e-02 8.64935875e-02]\n",
      " [1.20000000e+01 4.00575892e-01 2.16955805e-01 2.31713653e-01]\n",
      " [1.30000000e+01 3.17739427e-01 3.54583263e-01 5.48169847e-01]\n",
      " [1.10000000e+01 4.94727333e-01 3.32393599e-01 4.02665048e-01]\n",
      " [1.70000000e+01 4.00027895e-01 5.15637302e-01 5.62894921e-01]\n",
      " [1.00000000e+01 1.20783402e+00 1.13294506e-01 1.62218304e-01]\n",
      " [8.00000000e+00 1.47618750e+00 8.12870502e-02 9.72909164e-02]\n",
      " [2.00000000e+00 1.64128038e+00 4.03198719e-02 4.66581869e-02]\n",
      " [1.40000000e+01 5.00041682e-01 4.99304295e-01 8.09228559e-01]\n",
      " [9.00000000e+00 1.20363386e+00 2.83759594e-01 3.33863649e-01]\n",
      " [2.10000000e+01 9.64166427e-01 8.14750576e-01 9.43560481e-01]\n",
      " [1.50000000e+01 1.03329206e+00 9.40780544e-01 8.92963982e-01]\n",
      " [1.60000000e+01 3.59992924e-01 1.82142963e+00 1.29771243e+00]\n",
      " [7.00000000e+00 1.92897247e+00 2.39417839e-01 1.90057197e+00]\n",
      " [3.00000000e+01 9.97733341e-01 1.83223171e+00 1.97277825e+00]\n",
      " [1.90000000e+01 1.17925464e+00 2.13651767e+00 1.66337064e+00]\n",
      " [2.40000000e+01 1.01167251e+00 2.07714200e+00 2.22022388e+00]\n",
      " [2.20000000e+01 6.18708833e-01 1.76575551e+00 3.13773086e+00]\n",
      " [2.00000000e+01 1.17143080e+00 1.82682047e+00 3.12302085e+00]\n",
      " [2.50000000e+01 9.07598457e-01 3.63283558e+00 3.61360105e+00]\n",
      " [2.90000000e+01 3.51985574e+00 4.01978893e+00 4.56929642e+00]\n",
      " [2.70000000e+01 3.57864261e+00 3.65761518e+00 7.95342390e+00]\n",
      " [2.30000000e+01 1.39280891e+01 2.06434970e+00 1.87415853e+00]\n",
      " [2.80000000e+01 1.21935320e+01 2.47026086e+00 3.50544092e+00]\n",
      " [2.60000000e+01 1.55790430e+00 1.53336271e+01 1.36309599e+01]\n",
      " [1.80000000e+01 1.65663684e+01 8.24354215e+01 7.38119032e+01]]\n"
     ]
    }
   ],
   "source": [
    "# sorting instances by average solve time\n",
    "inst_time = np.mean(all_times[:, 1:], axis=1)\n",
    "sort_indx = np.argsort(inst_time)\n",
    "print(all_times[sort_indx])"
   ]
  },
  {
   "cell_type": "code",
   "execution_count": 28,
   "metadata": {},
   "outputs": [
    {
     "name": "stdout",
     "output_type": "stream",
     "text": [
      "RL is only based on test results\n"
     ]
    },
    {
     "data": {
      "image/png": "[encoded data removed]",
      "text/plain": [
       "<Figure size 432x288 with 1 Axes>"
      ]
     },
     "metadata": {},
     "output_type": "display_data"
    }
   ],
   "source": [
    "vps = plt.violinplot(all_times[sort_indx, 1:],\n",
    "                    showmeans=True, showmedians=False)\n",
    "plt.title('Runtime Distributions')\n",
    "ax = plt.gca()\n",
    "ax.set_xticklabels(['', 'RL', 'RR', 'RAND'])\n",
    "\n",
    "\n",
    "for pc, c in zip(vps['bodies'],\n",
    "                 [colors['RL'], colors['RR'], colors['RAND'], colors['SOP']]):\n",
    "    pc.set_facecolor(c)\n",
    "    pc.set_edgecolor(c)\n",
    "    pc.set_linewidth(5)\n",
    "    \n",
    "for partname in ('cbars','cmins','cmaxes'):\n",
    "    vp = vps[partname]\n",
    "    vp.set_edgecolor('black')\n",
    "    vp.set_linewidth(5)\n",
    "vp = vps['cmeans']\n",
    "vp.set_linewidth(0)\n",
    "xy = [[l.vertices[:,0],[l.vertices[0,1],l.vertices[0,1]]] for l in vp.get_paths()]\n",
    "xy = np.array(xy)\n",
    "for (x, y) in xy:\n",
    "    ax.plot(x, y, c='white', linewidth=5)\n",
    "\n",
    "print('RL is only based on test results')"
   ]
  },
  {
   "cell_type": "code",
   "execution_count": 29,
   "metadata": {},
   "outputs": [
    {
     "data": {
      "image/png": "[encoded data removed]",
      "text/plain": [
       "<Figure size 1440x360 with 1 Axes>"
      ]
     },
     "metadata": {},
     "output_type": "display_data"
    }
   ],
   "source": [
    "fig = plt.figure(figsize=(20, 5))\n",
    "plt.scatter(np.arange(len(sort_indx)), all_times[sort_indx, 1],\n",
    "            label='RL-Test', marker='x', s=250, zorder=3,\n",
    "            color=colors['RL']\n",
    "           )\n",
    "plt.scatter(np.arange(len(sort_indx)), all_times[sort_indx, 2],\n",
    "            label='RR', marker='+', s=250, zorder=2,\n",
    "            color=colors['RR']\n",
    "           )\n",
    "plt.scatter(np.arange(len(sort_indx)), all_times[sort_indx, 3],\n",
    "            label='RAND', marker='o', s=250, zorder=1,\n",
    "            color=colors['RAND']\n",
    "           )\n",
    "plt.legend()\n",
    "plt.semilogy()\n",
    "plt.ylim([0.01, 500])\n",
    "plt.xlim([-.5, len(sort_indx) - .5])\n",
    "plt.ylabel('Runtime [sec]')\n",
    "plt.title('Assembly')\n",
    "# ax = plt.gca()\n",
    "# ax.set_xticks(np.arange(len(sort_indx)))\n",
    "# ax.set_xticklabels(list(rand_data_time.keys()))\n",
    "# plt.xticks(rotation=45)\n",
    "plt.xticks(np.arange(len(sort_indx)),\n",
    "           np.array(list(rand_data_time.keys()))[sort_indx],\n",
    "           rotation=45,\n",
    "           ha='right'\n",
    "          )\n",
    "plt.savefig('assembly_runtimes.pdf', bbox_inches='tight')\n",
    "plt.show()"
   ]
  },
  {
   "cell_type": "markdown",
   "metadata": {},
   "source": [
    "<BR><BR><BR><BR><BR><BR><BR>"
   ]
  },
  {
   "cell_type": "code",
   "execution_count": 30,
   "metadata": {
    "scrolled": true
   },
   "outputs": [
    {
     "name": "stdout",
     "output_type": "stream",
     "text": [
      "old_feats_wide_long_1_val/*/*/old_feats_wide_long_*1*fd*200*1-*.log\n",
      "old_feats_wide_long_1_val/*/*/old_feats_wide_long_*1*fd*200*2-*.log\n",
      "old_feats_wide_long_1_val/*/*/old_feats_wide_long_*1*fd*200*3-*.log\n",
      "old_feats_wide_long_1_val/*/*/old_feats_wide_long_*1*fd*200*4-*.log\n",
      "old_feats_wide_long_1_val/*/*/old_feats_wide_long_*1*fd*200*5-*.log\n",
      "old_feats_wide_long_1_val/*/*/old_feats_wide_long_*1*fd*200*6-*.log\n",
      "old_feats_wide_long_1_val/*/*/old_feats_wide_long_*1*fd*200*7-*.log\n",
      "old_feats_wide_long_1_val/*/*/old_feats_wide_long_*1*fd*200*8-*.log\n",
      "old_feats_wide_long_1_val/*/*/old_feats_wide_long_*1*fd*200*9-*.log\n",
      "old_feats_wide_long_1_val/*/*/old_feats_wide_long_*1*fd*200*10-*.log\n",
      "old_feats_wide_long_2_val/*/*/old_feats_wide_long_*2*fd*200*1-*.log\n",
      "old_feats_wide_long_2_val/*/*/old_feats_wide_long_*2*fd*200*2-*.log\n",
      "old_feats_wide_long_2_val/*/*/old_feats_wide_long_*2*fd*200*3-*.log\n",
      "old_feats_wide_long_2_val/*/*/old_feats_wide_long_*2*fd*200*4-*.log\n",
      "old_feats_wide_long_2_val/*/*/old_feats_wide_long_*2*fd*200*5-*.log\n",
      "old_feats_wide_long_2_val/*/*/old_feats_wide_long_*2*fd*200*6-*.log\n",
      "old_feats_wide_long_2_val/*/*/old_feats_wide_long_*2*fd*200*7-*.log\n",
      "old_feats_wide_long_2_val/*/*/old_feats_wide_long_*2*fd*200*8-*.log\n",
      "old_feats_wide_long_2_val/*/*/old_feats_wide_long_*2*fd*200*9-*.log\n",
      "old_feats_wide_long_2_val/*/*/old_feats_wide_long_*2*fd*200*10-*.log\n",
      "old_feats_wide_long_3_val/*/*/old_feats_wide_long_*3*fd*200*1-*.log\n",
      "old_feats_wide_long_3_val/*/*/old_feats_wide_long_*3*fd*200*2-*.log\n",
      "old_feats_wide_long_3_val/*/*/old_feats_wide_long_*3*fd*200*3-*.log\n",
      "old_feats_wide_long_3_val/*/*/old_feats_wide_long_*3*fd*200*4-*.log\n",
      "old_feats_wide_long_3_val/*/*/old_feats_wide_long_*3*fd*200*5-*.log\n",
      "old_feats_wide_long_3_val/*/*/old_feats_wide_long_*3*fd*200*6-*.log\n",
      "old_feats_wide_long_3_val/*/*/old_feats_wide_long_*3*fd*200*7-*.log\n",
      "old_feats_wide_long_3_val/*/*/old_feats_wide_long_*3*fd*200*8-*.log\n",
      "old_feats_wide_long_3_val/*/*/old_feats_wide_long_*3*fd*200*9-*.log\n",
      "old_feats_wide_long_3_val/*/*/old_feats_wide_long_*3*fd*200*10-*.log\n",
      "old_feats_wide_long_4_val/*/*/old_feats_wide_long_*4*fd*200*1-*.log\n",
      "old_feats_wide_long_4_val/*/*/old_feats_wide_long_*4*fd*200*2-*.log\n",
      "old_feats_wide_long_4_val/*/*/old_feats_wide_long_*4*fd*200*3-*.log\n",
      "old_feats_wide_long_4_val/*/*/old_feats_wide_long_*4*fd*200*4-*.log\n",
      "old_feats_wide_long_4_val/*/*/old_feats_wide_long_*4*fd*200*5-*.log\n",
      "old_feats_wide_long_4_val/*/*/old_feats_wide_long_*4*fd*200*6-*.log\n",
      "old_feats_wide_long_4_val/*/*/old_feats_wide_long_*4*fd*200*7-*.log\n",
      "old_feats_wide_long_4_val/*/*/old_feats_wide_long_*4*fd*200*8-*.log\n",
      "old_feats_wide_long_4_val/*/*/old_feats_wide_long_*4*fd*200*9-*.log\n",
      "old_feats_wide_long_4_val/*/*/old_feats_wide_long_*4*fd*200*10-*.log\n",
      "old_feats_wide_long_5_val/*/*/old_feats_wide_long_*5*fd*200*1-*.log\n",
      "old_feats_wide_long_5_val/*/*/old_feats_wide_long_*5*fd*200*2-*.log\n",
      "old_feats_wide_long_5_val/*/*/old_feats_wide_long_*5*fd*200*3-*.log\n",
      "old_feats_wide_long_5_val/*/*/old_feats_wide_long_*5*fd*200*4-*.log\n",
      "old_feats_wide_long_5_val/*/*/old_feats_wide_long_*5*fd*200*5-*.log\n",
      "old_feats_wide_long_5_val/*/*/old_feats_wide_long_*5*fd*200*6-*.log\n",
      "old_feats_wide_long_5_val/*/*/old_feats_wide_long_*5*fd*200*7-*.log\n",
      "old_feats_wide_long_5_val/*/*/old_feats_wide_long_*5*fd*200*8-*.log\n",
      "old_feats_wide_long_5_val/*/*/old_feats_wide_long_*5*fd*200*9-*.log\n",
      "old_feats_wide_long_5_val/*/*/old_feats_wide_long_*5*fd*200*10-*.log\n"
     ]
    }
   ],
   "source": [
    "import glob\n",
    "import re\n",
    "regex = re.compile(\"(instance.*pddl|Expanded.*state)\")\n",
    "log_files_dir = \"/mhome/biedenka/rl-plan-tmp/experiments/assembly_v3/\"\n",
    "file_str = \"old_feats_wide_long_{:d}_val/*/*/old_feats_wide_long_*{:d}*fd*{:d}*{:d}-*.log\"\n",
    "test_dir_str = \"old_feats_wide_long_{:d}_val/*\"\n",
    "\n",
    "# Tak ids <= 20 are training evaluations\n",
    "# otherwise they are test evaluations\n",
    "# there are two validation runs for the test data as the first accidentally also\n",
    "# accessed the training instances. So we have to ignore the first\n",
    "\n",
    "test_expansions = {}\n",
    "train_expansions = {}\n",
    "for split in range(1, 6):\n",
    "    for seed in range(1, 11):\n",
    "            print(file_str.format(split, split, UNITS, seed))\n",
    "            # we have to make sure we don't accidentally load the wrong test validation\n",
    "            fs = sorted(glob.glob(os.path.join(\n",
    "                log_files_dir, file_str.format(split, split, UNITS, seed))))\n",
    "            all_test_data_dirs = sorted(glob.glob(os.path.join(\n",
    "                log_files_dir, test_dir_str.format(split)\n",
    "            )))\n",
    "            correct_test_data_dir = None\n",
    "            for dir_ in all_test_data_dirs:\n",
    "                if len(os.listdir(dir_)) <= 20:\n",
    "                    correct_test_data_dir = os.path.basename(dir_)\n",
    "            for f in fs:\n",
    "#                 print(f)\n",
    "                tid = int(f.split('_task_')[1].split('-')[0])\n",
    "                TEST = tid > 20\n",
    "                if TEST and not correct_test_data_dir in f:\n",
    "                    continue\n",
    "                n_insts = 0\n",
    "                with open(f, 'r') as fh:\n",
    "                    inst = None\n",
    "                    ex = None\n",
    "                    for line in fh:\n",
    "                        result = regex.search(line)\n",
    "                        if result:\n",
    "                            res_str = result.group().split(' ')\n",
    "                            if 'Expanded' in res_str[0]:\n",
    "                                ex = int(res_str[1])\n",
    "                            if 'instance' in res_str[0]:\n",
    "                                n_insts += 1\n",
    "                                inst = os.path.basename(res_str[1])\n",
    "                        if inst and ex:\n",
    "                            if TEST:\n",
    "                                if inst not in test_expansions:\n",
    "                                    test_expansions[inst] = []\n",
    "                                test_expansions[inst].append(ex)\n",
    "                            else:\n",
    "                                if inst not in train_expansions:\n",
    "                                    train_expansions[inst] = []\n",
    "                                train_expansions[inst].append(ex)\n",
    "                            inst = None\n",
    "                            ex = None"
   ]
  },
  {
   "cell_type": "code",
   "execution_count": 31,
   "metadata": {
    "scrolled": false
   },
   "outputs": [
    {
     "name": "stdout",
     "output_type": "stream",
     "text": [
      "Expansions vs. RL-Cost/Plan-Cost\n",
      "TRAIN\n",
      "prob01.pddl   33.08   32.08\n",
      "prob02.pddl   42.02   41.03\n",
      "prob03.pddl   78.50   77.50\n",
      "prob04.pddl   41.40   40.40\n",
      "prob05.pddl   54.50   53.50\n",
      "prob06.pddl   39.00   38.00\n",
      "prob07.pddl  123.22  122.25\n",
      "prob08.pddl   60.62   59.83\n",
      "prob09.pddl  154.18  153.18\n",
      "prob10.pddl   66.95   65.95\n",
      "prob11.pddl  128.57  127.58\n",
      "prob12.pddl   67.88   66.88\n",
      "prob13.pddl  136.97  135.98\n",
      "prob14.pddl  157.57  156.58\n",
      "prob15.pddl  146.12  145.22\n",
      "prob16.pddl  114.88  113.88\n",
      "prob17.pddl  103.00  102.67\n",
      "prob18.pddl 4029.62 4028.65\n",
      "prob19.pddl  269.00  268.68\n",
      "prob20.pddl  169.30  168.40\n",
      "prob21.pddl   86.67   85.68\n",
      "prob22.pddl  322.73  321.73\n",
      "prob23.pddl  167.95  167.95\n",
      "prob24.pddl  162.93  162.10\n",
      "prob25.pddl  256.48  256.02\n",
      "prob26.pddl  734.27  733.27\n",
      "prob27.pddl  280.75  279.88\n",
      "prob28.pddl  242.38  241.38\n",
      "prob29.pddl  322.52  321.52\n",
      "prob30.pddl  169.15  168.15\n",
      "\n",
      "TEST\n",
      "prob01.pddl   34.30   33.40\n",
      "prob02.pddl   40.40   39.40\n",
      "prob03.pddl   78.00   77.00\n",
      "prob04.pddl   43.50   42.50\n",
      "prob05.pddl   58.20   57.30\n",
      "prob06.pddl   38.50   37.50\n",
      "prob07.pddl 1100.40 1099.40\n",
      "prob08.pddl   72.40   71.90\n",
      "prob09.pddl  154.10  153.10\n",
      "prob10.pddl   69.40   68.40\n",
      "prob11.pddl  125.80  124.80\n",
      "prob12.pddl   65.60   64.60\n",
      "prob13.pddl  129.20  128.20\n",
      "prob14.pddl  182.70  181.70\n",
      "prob15.pddl  144.70  143.70\n",
      "prob16.pddl  108.80  107.80\n",
      "prob17.pddl  100.90   99.90\n",
      "prob18.pddl 4129.30 4128.30\n",
      "prob19.pddl  282.60  281.80\n",
      "prob20.pddl  172.10  171.10\n",
      "prob21.pddl   96.80   95.80\n",
      "prob22.pddl  320.10  319.10\n",
      "prob23.pddl  171.90  171.40\n",
      "prob24.pddl  165.50  164.50\n",
      "prob25.pddl  282.10  282.50\n",
      "prob26.pddl 1009.40 1008.40\n",
      "prob27.pddl  392.00 1102.60\n",
      "prob28.pddl  243.50  242.50\n",
      "prob29.pddl  316.90  315.90\n",
      "prob30.pddl  163.40  162.50\n"
     ]
    }
   ],
   "source": [
    "print('Expansions vs. RL-Cost/Plan-Cost')\n",
    "print('TRAIN')\n",
    "for x in sorted(train_expansions):\n",
    "    train_expansions[x] = np.mean(train_expansions[x])\n",
    "    b, c = train_expansions[x], average_rl_train_results[x]\n",
    "    print(x, \"{:>7.2f} {:>7.2f}\".format(b, c))\n",
    "print()\n",
    "print('TEST')\n",
    "for x in sorted(test_expansions):\n",
    "    test_expansions[x] = np.mean(test_expansions[x])\n",
    "    b, c = test_expansions[x], average_rl_test_results[x]\n",
    "    print(x, \"{:>7.2f} {:>7.2f}\".format(b, c))"
   ]
  },
  {
   "cell_type": "code",
   "execution_count": 32,
   "metadata": {
    "scrolled": false
   },
   "outputs": [
    {
     "name": "stdout",
     "output_type": "stream",
     "text": [
      "Average guidance of RL-TEST agent on Assembly\n",
      "1.5853161738766564\n"
     ]
    },
    {
     "data": {
      "image/png": "[encoded data removed]",
      "text/plain": [
       "<Figure size 432x288 with 1 Axes>"
      ]
     },
     "metadata": {},
     "output_type": "display_data"
    }
   ],
   "source": [
    "print('Average guidance of RL-TEST agent on Assembly')\n",
    "yy = np.logspace(np.log10(100), np.log10(0.01), 10**6)\n",
    "xx = np.arange(len(yy)) + 100\n",
    "# print(xx)\n",
    "plt.plot(xx, yy)\n",
    "\n",
    "guidance = []\n",
    "for instance in test_expansions:\n",
    "    exps = test_expansions[instance]\n",
    "    x_idx = 0\n",
    "    try:\n",
    "        while exps > xx[x_idx]:\n",
    "            x_idx += 1\n",
    "        guidance.append(y[x_idx])\n",
    "    except IndexError:\n",
    "        guidance.append(0)\n",
    "print(np.mean(guidance))"
   ]
  },
  {
   "cell_type": "markdown",
   "metadata": {},
   "source": [
    "<BR><BR><BR><BR><BR><BR><BR><BR><BR><BR><BR><BR><BR><BR><BR><BR><BR><BR><BR><BR><BR><BR><BR><BR><BR><BR><BR><BR><BR><BR><BR><BR><BR><BR><BR><BR><BR><BR><BR><BR>\n",
    "I realized with the splits we used above we didn't correctly split into disjoint training and test sets which is why I created a new split using sklearn"
   ]
  },
  {
   "cell_type": "markdown",
   "metadata": {},
   "source": [
    "from sklearn.model_selection import train_test_split, RepeatedKFold\n",
    "import shutil\n",
    "data_path = os.path.abspath(os.path.join(os.getcwd(), '..', 'ipc-benchmarks',\n",
    "                                         'assembly-crossvalidation', 'all'))\n",
    "\n",
    "X=np.array(list(range(1,31)))\n",
    "rkf=RepeatedKFold(n_splits=5, n_repeats=1, random_state=0)\n",
    "splits = {}\n",
    "idx = 1\n",
    "for train, test in rkf.split(X):\n",
    "    splits[idx] = {'train': [], 'test': []}\n",
    "    os.mkdir(os.path.join(data_path, 'split{:>d}'.format(idx)))\n",
    "    os.mkdir(os.path.join(data_path, 'split{:>d}'.format(idx), 'train'))\n",
    "    os.mkdir(os.path.join(data_path, 'split{:>d}'.format(idx), 'test'))\n",
    "    for train_idx in train:\n",
    "        splits[idx]['train'].append(str(os.path.join(\n",
    "            data_path, 'prob{:>02d}.pddl'.format(X[train_idx]))))\n",
    "        shutil.copyfile(splits[idx]['train'][-1],\n",
    "                        os.path.join(\n",
    "                            data_path, 'split{:>d}'.format(idx),\n",
    "                            'train', 'prob{:>02d}.pddl'.format(X[train_idx])))\n",
    "    \n",
    "    for test_idx in test:\n",
    "        splits[idx]['test'].append(str(os.path.join(\n",
    "            data_path, 'prob{:>02d}.pddl'.format(X[test_idx]))))\n",
    "        shutil.copyfile(splits[idx]['test'][-1],\n",
    "                        os.path.join(data_path, 'split{:>d}'.format(idx),\n",
    "                                     'test', 'prob{:>02d}.pddl'.format(X[test_idx])))\n",
    "    print(X[train])\n",
    "    print(X[test])\n",
    "    print()\n",
    "    idx += 1"
   ]
  },
  {
   "cell_type": "markdown",
   "metadata": {
    "scrolled": true
   },
   "source": [
    "splits"
   ]
  },
  {
   "cell_type": "markdown",
   "metadata": {},
   "source": [
    "with open('splits.json', 'w') as hf:\n",
    "    json.dump(splits, hf)"
   ]
  },
  {
   "cell_type": "markdown",
   "metadata": {},
   "source": [
    "os.getcwd()"
   ]
  }
 ],
 "metadata": {
  "kernelspec": {
   "display_name": "Python 3",
   "language": "python",
   "name": "python3"
  },
  "language_info": {
   "codemirror_mode": {
    "name": "ipython",
    "version": 3
   },
   "file_extension": ".py",
   "mimetype": "text/x-python",
   "name": "python",
   "nbconvert_exporter": "python",
   "pygments_lexer": "ipython3",
   "version": "3.6.8"
  },
  "latex_envs": {
   "LaTeX_envs_menu_present": true,
   "autoclose": false,
   "autocomplete": true,
   "bibliofile": "biblio.bib",
   "cite_by": "apalike",
   "current_citInitial": 1,
   "eqLabelWithNumbers": true,
   "eqNumInitial": 1,
   "hotkeys": {
    "equation": "Ctrl-E",
    "itemize": "Ctrl-I"
   },
   "labels_anchors": false,
   "latex_user_defs": false,
   "report_style_numbering": false,
   "user_envs_cfg": false
  },
  "varInspector": {
   "cols": {
    "lenName": 16,
    "lenType": 16,
    "lenVar": 40
   },
   "kernels_config": {
    "python": {
     "delete_cmd_postfix": "",
     "delete_cmd_prefix": "del ",
     "library": "var_list.py",
     "varRefreshCmd": "print(var_dic_list())"
    },
    "r": {
     "delete_cmd_postfix": ") ",
     "delete_cmd_prefix": "rm(",
     "library": "var_list.r",
     "varRefreshCmd": "cat(var_dic_list()) "
    }
   },
   "types_to_exclude": [
    "module",
    "function",
    "builtin_function_or_method",
    "instance",
    "_Feature"
   ],
   "window_display": false
  }
 },
 "nbformat": 4,
 "nbformat_minor": 2
}
