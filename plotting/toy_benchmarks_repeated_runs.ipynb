{
 "cells": [
  {
   "cell_type": "markdown",
   "metadata": {},
   "source": [
    "# DEPRECATED\n",
    "## Use toy_benchmarks_repeated_runs_long instead!"
   ]
  },
  {
   "cell_type": "markdown",
   "metadata": {},
   "source": [
    "import os\n",
    "import json\n",
    "import pandas as pd\n",
    "import numpy as np\n",
    "import json\n",
    "\n",
    "from matplotlib import pyplot as plt\n",
    "import seaborn as sb\n",
    "\n",
    "from mpl_toolkits.axes_grid1.inset_locator import zoomed_inset_axes, mark_inset\n",
    "from mpl_toolkits.axes_grid1.anchored_artists import AnchoredSizeBar"
   ]
  },
  {
   "cell_type": "markdown",
   "metadata": {},
   "source": [
    "sb.set_style(\"darkgrid\")\n",
    "sb.set_context(\"paper\",  font_scale = 1,\n",
    "               rc={\n",
    "                   \"grid.linewidth\": 2.5,\n",
    "                   'axes.labelsize': 24,\n",
    "                   \"axes.titlesize\": 26,\n",
    "                   \"legend.fontsize\": 24.0,\n",
    "                   'lines.linewidth': 2.5,\n",
    "                   'xtick.labelsize': 22.0,\n",
    "                   'ytick.labelsize': 22.0,\n",
    "               })"
   ]
  },
  {
   "cell_type": "markdown",
   "metadata": {
    "code_folding": [
     9
    ]
   },
   "source": [
    "opt_cost_dict = {\n",
    "     0: 22,  1: 56,  2: 56,  3: 60,  4: 22,  5:  54,  6: 27,  7: 12,  8: 14,  9: 120,\n",
    "    10: 42, 11: 35, 12: 28, 13: 32, 14: 24, 15:  15, 16: 24, 17: 45, 18: 90, 19:  60,\n",
    "    20: 10, 21: 40, 22: 28, 23: 54, 24: 72, 25: 108, 26: 14, 27: 80, 28: 60, 29:  20\n",
    "}\n",
    "\n",
    "exp_dir = '/home/biedenka/git/rl-plan'\n",
    "\n",
    "opt_pols = {}\n",
    "for inst in range(30):\n",
    "    with open(os.path.join(exp_dir, 'artifical-benchmarks', 'train', 'instance%d' % inst, 'optimal.json')) as fh:\n",
    "        opt_pol = json.load(fh)[1:]\n",
    "#     print('Instance %d' % inst)\n",
    "#     print(opt_pol)\n",
    "#     print(inst, len(opt_pol))\n",
    "#     print()\n",
    "    opt_pols[inst] = opt_pol\n",
    "    opt_cost_dict[inst] = len(opt_pol)\n",
    "\n",
    "\n",
    "data_dir = \"/home/biedenka/git/rl-plan/experiments/baseline_data/\"\n",
    "static_cost = {}\n",
    "random_cost = {}\n",
    "round_robin_cost = {}\n",
    "rl_cost = {}\n",
    "\n",
    "static_traj = {}\n",
    "random_traj = {}\n",
    "round_robin_traj = {}\n",
    "rl_traj = {}\n",
    "\n",
    "print('Loading Data')\n",
    "for instance in range(30):\n",
    "    with open(os.path.join(data_dir, 'train', 'instance-%d-random.json' % instance), 'r') as fh:\n",
    "        data = json.load(fh)\n",
    "        random_cost[instance] = (data['mean'], data['stdev'])\n",
    "        random_traj[instance] = data['trajectories']\n",
    "\n",
    "#     with open(os.path.join(data_dir, 'train', 'instance-%d-rl-25-wide.json' % instance), 'r') as fh:\n",
    "#         data = json.load(fh)\n",
    "#         rl_cost[instance] = (data['mean'], data['stdev'])\n",
    "#         rl_traj[instance] = data['trajectories']\n",
    "    \n",
    "    for act in [0, 1]:\n",
    "        if act not in static_cost:\n",
    "            static_cost[act] = {}\n",
    "            static_traj[act] = {}\n",
    "            round_robin_cost[act] = {}\n",
    "            round_robin_traj[act] = {}\n",
    "        with open(os.path.join(data_dir, 'train', 'instance-%d-static-action-%d.json' % (instance, act)), 'r') as fh:\n",
    "            data = json.load(fh)\n",
    "            static_cost[act][instance] = (data['mean'], data['stdev'])\n",
    "            static_traj[act][instance] = data['trajectories']\n",
    "            \n",
    "        for switch in range(1, 25):\n",
    "            if switch not in round_robin_cost[act]:\n",
    "                round_robin_cost[act][switch] = {}\n",
    "                round_robin_traj[act][switch] = {}\n",
    "            with open(os.path.join(data_dir, 'train', 'instance-%d-rr-%d-act%d.json' % (instance, switch, act)), 'r') as fh:\n",
    "                data = json.load(fh)\n",
    "                round_robin_cost[act][switch][instance] = (data['mean'], data['stdev'])\n",
    "                round_robin_traj[act][switch][instance] = data['trajectories']\n",
    "\n",
    "static_cost['oracle_portfolio'] = {}\n",
    "static_traj['oracle_portfolio'] = {}\n",
    "for i in range(len(opt_cost_dict.keys())):\n",
    "    better_act = 0 if static_cost[0][i] > static_cost[1][i] else 1\n",
    "    static_cost['oracle_portfolio'][i] = static_cost[better_act][i]\n",
    "    static_traj['oracle_portfolio'][i] = static_traj[better_act][i]\n",
    "print('Done')"
   ]
  },
  {
   "cell_type": "markdown",
   "metadata": {
    "code_folding": [
     0
    ]
   },
   "source": [
    "def plot(plot_bsf=True, old=False, lay=[5, 10, 20], uni=[20, 40], exp=[1, 2]):\n",
    "    for units in uni:\n",
    "        for layers in lay:\n",
    "\n",
    "            fig = plt.figure(figsize=(15, 5), dpi=100)\n",
    "            ax = plt.gca()\n",
    "            for exploration in exp:\n",
    "                \n",
    "                exp_dir = os.path.join(os.path.sep, 'mhome', 'biedenka',\n",
    "                                       'rl-plan-tmp', 'experiments', 'toy-benchmarks',\n",
    "                                       'old_feats_wide_short_full_train_set_%d-%d-%d' % (\n",
    "                                           layers, units, exploration))\n",
    "                if exploration == 1:\n",
    "                    print('#'*80)\n",
    "                    print(exp_dir)\n",
    "                    print('#'*80)\n",
    "                try:\n",
    "                    df = pd.read_csv(os.path.join(exp_dir, 'scores.txt'), sep='\\t',\n",
    "                                     index_col=None)\n",
    "                except Exception as e:\n",
    "                    print(e)\n",
    "\n",
    "                if not plot_bsf:\n",
    "                    plt.step(df.steps, df['mean'] * -1, where='mid', label='mean',\n",
    "                             alpha=0.25)\n",
    "                    # plt.step(df.steps, df['min'] * -1, where='mid', label='worst')\n",
    "                    plt.step(df.steps, df['median'] * -1, where='mid', label='median',\n",
    "                             alpha=0.25)\n",
    "                    plt.xlabel('#steps')\n",
    "                else:\n",
    "                    mean = df['mean']\n",
    "                    mead = df['median']\n",
    "                    me, md = [], []\n",
    "                    for idx, v in enumerate(zip(mean, mead)):\n",
    "                        if idx == 0: \n",
    "                            me.append(v[0])\n",
    "                            md.append(v[1])\n",
    "                            continue\n",
    "                        if v[0] > me[-1]:\n",
    "                            me.append(mean[idx])\n",
    "                            md.append(mead[idx])\n",
    "                        else:\n",
    "                            me.append(me[-1])\n",
    "                            md.append(md[-1])\n",
    "                    # additional +1 as reward is misaligned by 1\n",
    "                    data = (np.array(me) +1) * -1\n",
    "                    plt.step(df.steps/1000, (np.array(me) +1) * -1, where='post')  # ,\n",
    "#                              label='learned-bsf')\n",
    "                    print('Final learned', data[-1])\n",
    "                    #  plt.step(df.steps/1000, np.array(md) * -1, where='post',\n",
    "                    #           label='median-bsf')\n",
    "\n",
    "            ax.set_title('TRAIN')\n",
    "            ax.set_ylabel('RL-Cost')\n",
    "            if plot_bsf:\n",
    "                opt_mean = np.mean(list(opt_cost_dict.values()))\n",
    "                static_0 = -np.mean(list(static_cost[0].values()))\n",
    "                static_1 = -np.mean(list(static_cost[1].values()))\n",
    "                static_o = -np.mean(list(static_cost['oracle_portfolio'].values()))\n",
    "                random_mean, random_std = np.mean([-x[0] for x in random_cost.values()]), np.std([x[1] for x in random_cost.values()])\n",
    "                ssteps = [0, 500]\n",
    "                plt.plot(ssteps, [opt_mean, opt_mean],\n",
    "                         ls='--', label='optimal-mean')\n",
    "                ssteps[0] = 0  # np.sum(list(static_cost[0].values()))/1000\n",
    "                plt.plot(ssteps, [static_0, static_0],\n",
    "                         ls='--', label='static-0-mean')\n",
    "                ssteps[0] = 0  # np.sum(list(static_cost[1].values()))/1000\n",
    "                plt.plot(ssteps, [static_1, static_1],\n",
    "                         ls='--', label='static-1-mean')\n",
    "                ssteps[0] = 0\n",
    "                plt.plot(ssteps, [static_o, static_o],\n",
    "                         ls='--', label='oracle-portfolio')\n",
    "                plt.plot(ssteps, [random_mean, random_mean],\n",
    "                         ls='--', label='random-mean', c='gray')\n",
    "                plt.fill_between(ssteps, random_mean + random_std,\n",
    "                                 random_mean - random_std, alpha=0.25,\n",
    "                                 color='gray')\n",
    "\n",
    "                for act in [0]:  # [0, 1]:\n",
    "                    for switch in [11]:  # [3,4,5,6,7]:\n",
    "                        v = np.mean([-x[0] for x in round_robin_cost[act][switch].values()])\n",
    "                        plt.plot(ssteps, [v, v],\n",
    "                                 label = 'rr-%d-%d' % (act, switch),\n",
    "                                 ls = '--')\n",
    "                plt.ylim([0, 600])\n",
    "                ax.legend(loc='upper center', bbox_to_anchor=(0.5, -0.2),\n",
    "                          fancybox=True, shadow=True, ncol=4)\n",
    "                plt.xlabel('#steps [k]')\n",
    "                plt.xlim([0, 500])\n",
    "            else:\n",
    "                plt.ylim([0, 1500])\n",
    "                plt.xlim([0, 500_000])\n",
    "                plt.xlabel('#steps')\n",
    "            plt.show()\n",
    "            print()\n",
    "            print()"
   ]
  },
  {
   "cell_type": "markdown",
   "metadata": {
    "code_folding": [
     0
    ]
   },
   "source": [
    "def plot_means(plot_bsf=True, old=False, lay=[5, 10, 20], uni=[20, 40], exp=[1, 2],\n",
    "               quantile=False):\n",
    "    for units in uni:\n",
    "        for layers in lay:\n",
    "\n",
    "            fig = plt.figure(figsize=(15, 5), dpi=100)\n",
    "            ax = plt.gca()\n",
    "            dfs = []\n",
    "            for exploration in exp:\n",
    "                \n",
    "                exp_dir = os.path.join(os.path.sep, 'mhome', 'biedenka',\n",
    "                                       'rl-plan-tmp', 'experiments', 'toy-benchmarks',\n",
    "                                       'old_feats_wide_short_full_train_set_%d-%d-%d' % (\n",
    "                                           layers, units, exploration))\n",
    "                if exploration == 1:\n",
    "                    print('#'*80)\n",
    "                    print(exp_dir)\n",
    "                    print('#'*80)\n",
    "                try:\n",
    "                    df = pd.read_csv(os.path.join(exp_dir, 'scores.txt'), sep='\\t',\n",
    "                                     index_col=None)\n",
    "                    dfs.append(df)\n",
    "                except Exception as e:\n",
    "                    print(e)\n",
    "\n",
    "            if not plot_bsf:\n",
    "                frame = pd.concat(dfs)\n",
    "                if quantile:\n",
    "                    df = frame.groupby(frame.index).quantile(q=.5)\n",
    "                    dsu = frame.groupby(frame.index).quantile(q=.75)\n",
    "                    dsl = frame.groupby(frame.index).quantile(q=.25)\n",
    "                    u = dsl['mean'] * -1\n",
    "                    l = dsu['mean'] * -1\n",
    "                    um = dsl['median'] * -1\n",
    "                    lm = dsu['median'] * -1\n",
    "                else:\n",
    "                    df = frame.groupby(frame.index).mean()\n",
    "                    ds = frame.groupby(frame.index).std()\n",
    "                    u = df['mean'] * -1 + ds['mean']\n",
    "                    l = df['mean'] * -1 - ds['mean']\n",
    "                    um = df['median'] * -1 + ds['median']\n",
    "                    lm = df['median'] * -1 - ds['median']\n",
    "                plt.step(df.steps, df['mean'] * -1, where='post',\n",
    "                         label='mean', color='b')\n",
    "                plt.fill_between(df.steps, u, l, step='post', color='b', alpha=0.25)\n",
    "                plt.step(df.steps, df['median'] * -1, where='post',\n",
    "                         label='median', color='orange')\n",
    "                plt.fill_between(df.steps, um, lm, step='post', color='orange', alpha=0.25)\n",
    "                plt.xlabel('#steps')\n",
    "            else:\n",
    "                mes = []\n",
    "                stps = []\n",
    "                ml = -1\n",
    "                for df in dfs:\n",
    "                    mean = df['mean']\n",
    "                    mead = df['median']\n",
    "                    steps = df['steps']\n",
    "                    me, md = [], []\n",
    "                    stp = []\n",
    "                    for idx, v in enumerate(zip(mean, mead, steps)):\n",
    "                        if idx == 0: \n",
    "                            me.append(v[0])\n",
    "                            md.append(v[1])\n",
    "                            stp.append(v[2])\n",
    "                            continue\n",
    "                        if v[0] > me[-1]:\n",
    "                            me.append(mean[idx])\n",
    "                            md.append(mead[idx])\n",
    "                            stp.append(steps[idx])\n",
    "                        else:\n",
    "                            me.append(me[-1])\n",
    "                            md.append(md[-1])\n",
    "                            stp.append(steps[idx])\n",
    "                    if len(me) > ml:\n",
    "                        ml = len(me)\n",
    "                    mes.append(me)\n",
    "                    stps.append(stp)\n",
    "                for idx in range(len(mes)):\n",
    "                    while len(mes[idx]) < ml:\n",
    "                        mes[idx].append(np.nan)\n",
    "                        stps[idx].append(np.nan)\n",
    "                \n",
    "                if quantile:\n",
    "                    m = -np.nanquantile(mes, q=.5, axis=0)\n",
    "                    u = -np.nanquantile(mes, q=.25, axis=0)\n",
    "                    l = -np.nanquantile(mes, q=.75, axis=0)\n",
    "                else:\n",
    "                    m = -np.nanmean(mes, axis=0)\n",
    "                    u = m + np.nanstd(mes, axis=0)\n",
    "                    l = m - np.nanstd(mes, axis=0)\n",
    "                stps = np.nanmean(stps, axis=0) / 1000\n",
    "                plt.step(stps, m, where='post',\n",
    "                         label='learned-bsf')\n",
    "\n",
    "                plt.fill_between(stps, u, l, step='post', color='b', alpha=0.25)\n",
    "                print('Final learned', m[-1])\n",
    "                #  plt.step(df.steps/1000, np.array(md) * -1, where='post',\n",
    "                #           label='median-bsf')\n",
    "\n",
    "            ax.set_title('TRAIN')\n",
    "            ax.set_ylabel('RL-Cost')\n",
    "            if plot_bsf:\n",
    "                opt_mean = np.mean(list(opt_cost_dict.values()))\n",
    "                static_0 = -np.mean(list(static_cost[0].values()))\n",
    "                static_1 = -np.mean(list(static_cost[1].values()))\n",
    "                static_o = -np.mean(list(static_cost['oracle_portfolio'].values()))\n",
    "                random_mean, random_std = np.mean([-x[0] for x in random_cost.values()]), np.std([x[1] for x in random_cost.values()])\n",
    "                ssteps = [0, 500]\n",
    "                plt.plot(ssteps, [opt_mean, opt_mean],\n",
    "                         ls='--', label='optimal-mean')\n",
    "                ssteps[0] = 0  # np.sum(list(static_cost[0].values()))/1000\n",
    "                plt.plot(ssteps, [static_0, static_0],\n",
    "                         ls='--', label='static-0-mean')\n",
    "                ssteps[0] = 0  # np.sum(list(static_cost[1].values()))/1000\n",
    "                plt.plot(ssteps, [static_1, static_1],\n",
    "                         ls='--', label='static-1-mean')\n",
    "                ssteps[0] = 0\n",
    "                plt.plot(ssteps, [static_o, static_o],\n",
    "                         ls='--', label='oracle-portfolio')\n",
    "                plt.plot(ssteps, [random_mean, random_mean],\n",
    "                         ls='--', label='random-mean', c='gray')\n",
    "                plt.fill_between(ssteps, random_mean + random_std,\n",
    "                                 random_mean - random_std, alpha=0.25,\n",
    "                                 color='gray')\n",
    "\n",
    "                for act in [0]:  # [0, 1]:\n",
    "                    for switch in [11]:  # [3,4,5,6,7]:\n",
    "                        v = np.mean([-x[0] for x in round_robin_cost[act][switch].values()])\n",
    "                        plt.plot(ssteps, [v, v],\n",
    "                                 label = 'rr-%d-%d' % (act, switch),\n",
    "                                 ls = '--')\n",
    "                plt.ylim([0, 600])\n",
    "                ax.legend(loc='upper center', bbox_to_anchor=(0.5, -0.2),\n",
    "                          fancybox=True, shadow=True, ncol=4)\n",
    "                plt.xlabel('#steps [k]')\n",
    "                plt.xlim([0, 500])\n",
    "            else:\n",
    "                plt.ylim([0, 1_000])\n",
    "                plt.xlim([0, 500_000])\n",
    "                plt.xlabel('#steps')\n",
    "            plt.show()\n",
    "            print()\n",
    "            print()"
   ]
  },
  {
   "cell_type": "markdown",
   "metadata": {},
   "source": [
    "<BR><BR><BR><BR><BR><BR><BR><BR><BR><BR><BR><BR><BR><BR><BR><BR>\n",
    "# Results over 10 seeds"
   ]
  },
  {
   "cell_type": "markdown",
   "metadata": {},
   "source": [
    "#### Plot Incumbent Performance"
   ]
  },
  {
   "cell_type": "markdown",
   "metadata": {},
   "source": [
    "##### Plots using mean +- stdev\n",
    "plot_means(plot_bsf=True, old=True, lay=[2], uni=[75, 150, 200],\n",
    "           exp=[1, 2, 3, 4, 5, 6, 7, 8, 9, 10], quantile=False)\n",
    "           \n",
    "           \n",
    "           \n",
    "##### Plots using Quartiles:           "
   ]
  },
  {
   "cell_type": "markdown",
   "metadata": {
    "scrolled": false
   },
   "source": [
    "plot_means(plot_bsf=True, old=True, lay=[2], uni=[75, 150, 200],\n",
    "           exp=[1, 2, 3, 4, 5, 6, 7, 8, 9, 10], quantile=True)"
   ]
  },
  {
   "cell_type": "markdown",
   "metadata": {},
   "source": [
    "#### Plot RL Performance"
   ]
  },
  {
   "cell_type": "markdown",
   "metadata": {},
   "source": [
    "##### Plots using mean +- stdev\n",
    "plot_means(plot_bsf=False, old=True, lay=[2], uni=[75, 150, 200],\n",
    "           exp=[1, 2, 3, 4, 5, 6, 7, 8, 9, 10], quantile=False)\n",
    "           \n",
    "           \n",
    "           \n",
    "##### Plots using Quartiles:           "
   ]
  },
  {
   "cell_type": "markdown",
   "metadata": {
    "scrolled": false
   },
   "source": [
    "plot_means(plot_bsf=False, old=True, lay=[2], uni=[75, 150, 200],\n",
    "           exp=[1, 2, 3, 4, 5, 6, 7, 8, 9, 10], quantile=True)"
   ]
  },
  {
   "cell_type": "markdown",
   "metadata": {},
   "source": [
    "<BR><BR><BR><BR><BR><BR><BR><BR><BR><BR><BR><BR><BR><BR><BR><BR><BR><BR><BR><BR>\n",
    "## Plotting individual runs\n",
    "<BR>"
   ]
  },
  {
   "cell_type": "markdown",
   "metadata": {},
   "source": [
    "#### OLD FEATS\n",
    "##### Very Wide Nets"
   ]
  },
  {
   "cell_type": "markdown",
   "metadata": {
    "scrolled": true
   },
   "source": [
    "plot(old=True, lay=[2], uni=[75, 150, 200], exp=[1, 2, 3, 4, 5, 6, 7, 8, 9, 10])"
   ]
  },
  {
   "cell_type": "markdown",
   "metadata": {
    "scrolled": true
   },
   "source": [
    "plot(plot_bsf=False, old=True, lay=[2], uni=[75, 150, 200], exp=[1, 2, 3, 4, 5, 6, 7, 8, 9, 10])"
   ]
  }
 ],
 "metadata": {
  "kernelspec": {
   "display_name": "Python 3",
   "language": "python",
   "name": "python3"
  },
  "language_info": {
   "codemirror_mode": {
    "name": "ipython",
    "version": 3
   },
   "file_extension": ".py",
   "mimetype": "text/x-python",
   "name": "python",
   "nbconvert_exporter": "python",
   "pygments_lexer": "ipython3",
   "version": "3.6.8"
  },
  "latex_envs": {
   "LaTeX_envs_menu_present": true,
   "autoclose": false,
   "autocomplete": true,
   "bibliofile": "biblio.bib",
   "cite_by": "apalike",
   "current_citInitial": 1,
   "eqLabelWithNumbers": true,
   "eqNumInitial": 1,
   "hotkeys": {
    "equation": "Ctrl-E",
    "itemize": "Ctrl-I"
   },
   "labels_anchors": false,
   "latex_user_defs": false,
   "report_style_numbering": false,
   "user_envs_cfg": false
  },
  "varInspector": {
   "cols": {
    "lenName": 16,
    "lenType": 16,
    "lenVar": 40
   },
   "kernels_config": {
    "python": {
     "delete_cmd_postfix": "",
     "delete_cmd_prefix": "del ",
     "library": "var_list.py",
     "varRefreshCmd": "print(var_dic_list())"
    },
    "r": {
     "delete_cmd_postfix": ") ",
     "delete_cmd_prefix": "rm(",
     "library": "var_list.r",
     "varRefreshCmd": "cat(var_dic_list()) "
    }
   },
   "types_to_exclude": [
    "module",
    "function",
    "builtin_function_or_method",
    "instance",
    "_Feature"
   ],
   "window_display": false
  }
 },
 "nbformat": 4,
 "nbformat_minor": 2
}
