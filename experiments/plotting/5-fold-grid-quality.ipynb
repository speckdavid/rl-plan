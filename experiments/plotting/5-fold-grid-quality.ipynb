{
 "cells": [
  {
   "cell_type": "code",
   "execution_count": 1,
   "metadata": {},
   "outputs": [],
   "source": [
    "import os\n",
    "import json\n",
    "import pandas as pd\n",
    "import numpy as np\n",
    "import json\n",
    "\n",
    "from matplotlib import pyplot as plt\n",
    "import seaborn as sb\n",
    "\n",
    "from mpl_toolkits.axes_grid1.inset_locator import zoomed_inset_axes, mark_inset\n",
    "from mpl_toolkits.axes_grid1.anchored_artists import AnchoredSizeBar"
   ]
  },
  {
   "cell_type": "code",
   "execution_count": 2,
   "metadata": {},
   "outputs": [],
   "source": [
    "sb.set_style(\"darkgrid\")\n",
    "sb.set_context(\"paper\",  font_scale = 1,\n",
    "               rc={\n",
    "                   \"grid.linewidth\": 3.75,\n",
    "                   'axes.labelsize': 28,\n",
    "                   \"axes.titlesize\": 32,\n",
    "                   \"legend.fontsize\": 28.0,\n",
    "                   'lines.linewidth': 5,\n",
    "                   'xtick.labelsize': 24.0,\n",
    "                   'ytick.labelsize': 24.0,\n",
    "               })\n",
    "current_palette = list(sb.color_palette())\n",
    "colors = {\n",
    "    'RL': current_palette[0],\n",
    "    'RR': current_palette[5],\n",
    "    'SOP':current_palette[4],\n",
    "    'RAND':current_palette[7],\n",
    "    'optimal':current_palette[1],\n",
    "    '0':current_palette[-2],\n",
    "    '1':current_palette[-1]\n",
    "}"
   ]
  },
  {
   "cell_type": "code",
   "execution_count": 3,
   "metadata": {},
   "outputs": [],
   "source": [
    "experiments = ['5-fold-grid']"
   ]
  },
  {
   "cell_type": "code",
   "execution_count": 4,
   "metadata": {
    "code_folding": [],
    "scrolled": false
   },
   "outputs": [
    {
     "name": "stdout",
     "output_type": "stream",
     "text": [
      "5-fold-grid\n",
      "1\n",
      "{'test': {'prob01.pddl': 42}, 'train': {'prob02.pddl': 208, 'prob03.pddl': 7500, 'prob04.pddl': 41, 'prob05.pddl': 469}}\n",
      "2\n",
      "{'test': {'prob02.pddl': 34}, 'train': {'prob01.pddl': 23, 'prob03.pddl': 5066, 'prob04.pddl': 939, 'prob05.pddl': 2176}}\n",
      "3\n",
      "{'test': {'prob03.pddl': 3146}, 'train': {'prob01.pddl': 27, 'prob02.pddl': 36, 'prob04.pddl': 85, 'prob05.pddl': 514}}\n",
      "4\n",
      "{'test': {'prob04.pddl': 7500}, 'train': {'prob01.pddl': 14, 'prob02.pddl': 39, 'prob03.pddl': 5385, 'prob05.pddl': 724}}\n",
      "5\n",
      "{'test': {'prob05.pddl': 7500}, 'train': {'prob01.pddl': 16, 'prob02.pddl': 32, 'prob03.pddl': 3256, 'prob04.pddl': 67}}\n"
     ]
    }
   ],
   "source": [
    "# Load the validated RL data\n",
    "exp_dir = '/home/biedenka/git/rl-plan'\n",
    "rl_data = {}\n",
    "rl_time_data = {}\n",
    "UNITS = 75\n",
    "cutoff = 7500  # used cutoff for all experiments\n",
    "\n",
    "epm = 'grid'\n",
    "\n",
    "for epm in experiments:\n",
    "    data_dir = \"/mhome/biedenka/rl-plan-tmp/experiments/%s\" % epm\n",
    "    rl_data[epm] = {}\n",
    "    print(epm)\n",
    "    for split in range(1, 6):  # for all 5 seeds\n",
    "        print(split)\n",
    "        rl_data[epm][split] = {}\n",
    "        for TEST in [True, False]:  # For all trining and test splits\n",
    "            key = 'test' if TEST else 'train'\n",
    "            rl_data[epm][split][key] = {}\n",
    "            insts = sorted(\n",
    "                os.listdir(os.path.join(data_dir, 'test' if TEST else 'train',\n",
    "                                       'split%d' % split)))\n",
    "            try:\n",
    "                file=os.path.join(\n",
    "                    data_dir,\n",
    "                    '%s_full_train_set_2-%d-split-%d' % (\n",
    "                        epm, UNITS, split),\n",
    "                    'best',\n",
    "                    '%s-2-%d-split%d.json' % (\n",
    "                        'test' if TEST else 'train', UNITS, split))\n",
    "                with open(file, 'r') as fh:\n",
    "                    data = json.load(fh)\n",
    "                for inst_id, inst in enumerate(insts):\n",
    "                    rl_data[epm][split][key][inst] = len(data['trajectories'][inst_id])\n",
    "            except FileNotFoundError:\n",
    "                print('Not done with seed %d' % (split))\n",
    "        print(rl_data[epm][split])"
   ]
  }
 ],
 "metadata": {
  "kernelspec": {
   "display_name": "Python 3",
   "language": "python",
   "name": "python3"
  },
  "language_info": {
   "codemirror_mode": {
    "name": "ipython",
    "version": 3
   },
   "file_extension": ".py",
   "mimetype": "text/x-python",
   "name": "python",
   "nbconvert_exporter": "python",
   "pygments_lexer": "ipython3",
   "version": "3.6.8"
  },
  "latex_envs": {
   "LaTeX_envs_menu_present": true,
   "autoclose": false,
   "autocomplete": true,
   "bibliofile": "biblio.bib",
   "cite_by": "apalike",
   "current_citInitial": 1,
   "eqLabelWithNumbers": true,
   "eqNumInitial": 1,
   "hotkeys": {
    "equation": "Ctrl-E",
    "itemize": "Ctrl-I"
   },
   "labels_anchors": false,
   "latex_user_defs": false,
   "report_style_numbering": false,
   "user_envs_cfg": false
  },
  "varInspector": {
   "cols": {
    "lenName": 16,
    "lenType": 16,
    "lenVar": 40
   },
   "kernels_config": {
    "python": {
     "delete_cmd_postfix": "",
     "delete_cmd_prefix": "del ",
     "library": "var_list.py",
     "varRefreshCmd": "print(var_dic_list())"
    },
    "r": {
     "delete_cmd_postfix": ") ",
     "delete_cmd_prefix": "rm(",
     "library": "var_list.r",
     "varRefreshCmd": "cat(var_dic_list()) "
    }
   },
   "types_to_exclude": [
    "module",
    "function",
    "builtin_function_or_method",
    "instance",
    "_Feature"
   ],
   "window_display": false
  }
 },
 "nbformat": 4,
 "nbformat_minor": 2
}
